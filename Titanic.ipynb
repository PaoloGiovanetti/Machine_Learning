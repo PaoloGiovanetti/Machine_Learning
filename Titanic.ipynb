{
 "cells": [
  {
   "cell_type": "markdown",
   "metadata": {},
   "source": [
    "The RMS Titanic, a luxury steamship, sank in the early hours of April 15, 1912 off the coast of Newfoundland \n",
    "in the North Atlantic after sideswiping an iceberg during its maiden voyage. Of the 2,240 passengers and crew \n",
    "on board, more than 1,500 lost their lives in the disaster.\n",
    "\n",
    "Our goal is to predict which passenger survived and who did not, based on the data provided.\n",
    "\n",
    "The dataset is already divided in train set and test set.\n",
    "For more info:\n",
    "- https://www.kaggle.com/c/titanic\n"
   ]
  },
  {
   "cell_type": "markdown",
   "metadata": {},
   "source": [
    "First, we have to frame the problem in order to outline which steps we have to follow in our analysis:\n",
    "1. Is it supervised, unsupervised, or Reinforcement Learning? Is it a classification task, a regression task, or something else?\n",
    "2. Select a perfomance measure\n",
    "3. Data exploring and pattern identification\n",
    "4. Deal with missing values\n",
    "5. Experiments with attribute combination \n",
    "6. Data cleaning\n",
    "7. Converting features\n",
    "8. Select the model\n",
    "\n",
    "- Most of the time there are more steps to follow - for ex. how to split the given data by reducing bias."
   ]
  },
  {
   "cell_type": "code",
   "execution_count": 1,
   "metadata": {},
   "outputs": [],
   "source": [
    "# Imported libraries that we are going to use for the analysis\n",
    "import matplotlib.pyplot as plt \n",
    "import numpy as np\n",
    "import pandas as pd\n",
    "import sklearn.linear_model\n",
    "import seaborn as sns\n",
    "\n",
    "# Encoders\n",
    "from sklearn.preprocessing import OrdinalEncoder\n",
    "from sklearn.impute import SimpleImputer\n",
    "\n",
    "# Algorithms\n",
    "from sklearn.linear_model import LogisticRegression\n",
    "from sklearn.ensemble import RandomForestClassifier\n",
    "from sklearn.tree import DecisionTreeClassifier\n",
    "from sklearn.neighbors import KNeighborsClassifier\n",
    "\n",
    "# Performance measures\n",
    "from sklearn.model_selection import cross_val_predict\n",
    "from sklearn.model_selection import cross_val_score\n",
    "from sklearn.metrics import confusion_matrix\n",
    "from sklearn.metrics import f1_score\n",
    "from sklearn.metrics import precision_recall_curve\n",
    "from sklearn.metrics import roc_curve\n",
    "from sklearn.metrics import roc_auc_score\n",
    "from sklearn.metrics import precision_score, recall_score"
   ]
  },
  {
   "cell_type": "code",
   "execution_count": 2,
   "metadata": {},
   "outputs": [],
   "source": [
    "# Let's start loading the data\n",
    "def load_file(File_name):\n",
    "    \"\"\"creating a function to load the files\"\"\"\n",
    "    df = pd.read_csv(File_name,thousands=\",\",delimiter=\",\",encoding=\"latin1\", na_values=\"n/a\")\n",
    "    return df"
   ]
  },
  {
   "cell_type": "code",
   "execution_count": 3,
   "metadata": {},
   "outputs": [],
   "source": [
    "# Loading the data\n",
    "df_train = load_file(\"train.csv\")\n",
    "df_test = load_file(\"test.csv\")\n",
    "data = [df_train,df_test]"
   ]
  },
  {
   "cell_type": "markdown",
   "metadata": {},
   "source": [
    "From the information provided, we  know:\n",
    "Survived = 0 means that the passengers died\n",
    "Survived = 1 means that passengers survived\n",
    "\n",
    "pclass: A proxy for socio-economic status (SES)\n",
    "- 1st = Upper\n",
    "- 2nd = Middle\n",
    "- 3rd = Lower\n",
    "\n",
    "age: Age is fractional if less than 1. If the age is estimated, is it in the form of xx.5\n",
    "\n",
    "sibsp: The dataset defines family relations in this way:\n",
    "- Sibling = brother, sister, stepbrother, stepsister\n",
    "- Spouse = husband, wife (mistresses and fiancés were ignored)\n",
    "\n",
    "parch: The dataset defines family relations in this way:\n",
    "- Parent = mother, father\n",
    "- Child = daughter, son, stepdaughter, stepson\n",
    "- Some children travelled only with a nanny, therefore parch=0 for them.\n",
    "\n",
    "embarked:\n",
    "- C = Cherbourg\n",
    "- Q = Queenstown \n",
    "- S = Southampton"
   ]
  },
  {
   "cell_type": "code",
   "execution_count": 4,
   "metadata": {},
   "outputs": [
    {
     "data": {
      "text/html": [
       "<div>\n",
       "<style scoped>\n",
       "    .dataframe tbody tr th:only-of-type {\n",
       "        vertical-align: middle;\n",
       "    }\n",
       "\n",
       "    .dataframe tbody tr th {\n",
       "        vertical-align: top;\n",
       "    }\n",
       "\n",
       "    .dataframe thead th {\n",
       "        text-align: right;\n",
       "    }\n",
       "</style>\n",
       "<table border=\"1\" class=\"dataframe\">\n",
       "  <thead>\n",
       "    <tr style=\"text-align: right;\">\n",
       "      <th></th>\n",
       "      <th>PassengerId</th>\n",
       "      <th>Survived</th>\n",
       "      <th>Pclass</th>\n",
       "      <th>Name</th>\n",
       "      <th>Sex</th>\n",
       "      <th>Age</th>\n",
       "      <th>SibSp</th>\n",
       "      <th>Parch</th>\n",
       "      <th>Ticket</th>\n",
       "      <th>Fare</th>\n",
       "      <th>Cabin</th>\n",
       "      <th>Embarked</th>\n",
       "    </tr>\n",
       "  </thead>\n",
       "  <tbody>\n",
       "    <tr>\n",
       "      <th>0</th>\n",
       "      <td>1</td>\n",
       "      <td>0</td>\n",
       "      <td>3</td>\n",
       "      <td>Braund, Mr. Owen Harris</td>\n",
       "      <td>male</td>\n",
       "      <td>22.0</td>\n",
       "      <td>1</td>\n",
       "      <td>0</td>\n",
       "      <td>A/5 21171</td>\n",
       "      <td>7.2500</td>\n",
       "      <td>NaN</td>\n",
       "      <td>S</td>\n",
       "    </tr>\n",
       "    <tr>\n",
       "      <th>1</th>\n",
       "      <td>2</td>\n",
       "      <td>1</td>\n",
       "      <td>1</td>\n",
       "      <td>Cumings, Mrs. John Bradley (Florence Briggs Th...</td>\n",
       "      <td>female</td>\n",
       "      <td>38.0</td>\n",
       "      <td>1</td>\n",
       "      <td>0</td>\n",
       "      <td>PC 17599</td>\n",
       "      <td>71.2833</td>\n",
       "      <td>C85</td>\n",
       "      <td>C</td>\n",
       "    </tr>\n",
       "    <tr>\n",
       "      <th>2</th>\n",
       "      <td>3</td>\n",
       "      <td>1</td>\n",
       "      <td>3</td>\n",
       "      <td>Heikkinen, Miss. Laina</td>\n",
       "      <td>female</td>\n",
       "      <td>26.0</td>\n",
       "      <td>0</td>\n",
       "      <td>0</td>\n",
       "      <td>STON/O2. 3101282</td>\n",
       "      <td>7.9250</td>\n",
       "      <td>NaN</td>\n",
       "      <td>S</td>\n",
       "    </tr>\n",
       "    <tr>\n",
       "      <th>3</th>\n",
       "      <td>4</td>\n",
       "      <td>1</td>\n",
       "      <td>1</td>\n",
       "      <td>Futrelle, Mrs. Jacques Heath (Lily May Peel)</td>\n",
       "      <td>female</td>\n",
       "      <td>35.0</td>\n",
       "      <td>1</td>\n",
       "      <td>0</td>\n",
       "      <td>113803</td>\n",
       "      <td>53.1000</td>\n",
       "      <td>C123</td>\n",
       "      <td>S</td>\n",
       "    </tr>\n",
       "    <tr>\n",
       "      <th>4</th>\n",
       "      <td>5</td>\n",
       "      <td>0</td>\n",
       "      <td>3</td>\n",
       "      <td>Allen, Mr. William Henry</td>\n",
       "      <td>male</td>\n",
       "      <td>35.0</td>\n",
       "      <td>0</td>\n",
       "      <td>0</td>\n",
       "      <td>373450</td>\n",
       "      <td>8.0500</td>\n",
       "      <td>NaN</td>\n",
       "      <td>S</td>\n",
       "    </tr>\n",
       "    <tr>\n",
       "      <th>5</th>\n",
       "      <td>6</td>\n",
       "      <td>0</td>\n",
       "      <td>3</td>\n",
       "      <td>Moran, Mr. James</td>\n",
       "      <td>male</td>\n",
       "      <td>NaN</td>\n",
       "      <td>0</td>\n",
       "      <td>0</td>\n",
       "      <td>330877</td>\n",
       "      <td>8.4583</td>\n",
       "      <td>NaN</td>\n",
       "      <td>Q</td>\n",
       "    </tr>\n",
       "    <tr>\n",
       "      <th>6</th>\n",
       "      <td>7</td>\n",
       "      <td>0</td>\n",
       "      <td>1</td>\n",
       "      <td>McCarthy, Mr. Timothy J</td>\n",
       "      <td>male</td>\n",
       "      <td>54.0</td>\n",
       "      <td>0</td>\n",
       "      <td>0</td>\n",
       "      <td>17463</td>\n",
       "      <td>51.8625</td>\n",
       "      <td>E46</td>\n",
       "      <td>S</td>\n",
       "    </tr>\n",
       "    <tr>\n",
       "      <th>7</th>\n",
       "      <td>8</td>\n",
       "      <td>0</td>\n",
       "      <td>3</td>\n",
       "      <td>Palsson, Master. Gosta Leonard</td>\n",
       "      <td>male</td>\n",
       "      <td>2.0</td>\n",
       "      <td>3</td>\n",
       "      <td>1</td>\n",
       "      <td>349909</td>\n",
       "      <td>21.0750</td>\n",
       "      <td>NaN</td>\n",
       "      <td>S</td>\n",
       "    </tr>\n",
       "    <tr>\n",
       "      <th>8</th>\n",
       "      <td>9</td>\n",
       "      <td>1</td>\n",
       "      <td>3</td>\n",
       "      <td>Johnson, Mrs. Oscar W (Elisabeth Vilhelmina Berg)</td>\n",
       "      <td>female</td>\n",
       "      <td>27.0</td>\n",
       "      <td>0</td>\n",
       "      <td>2</td>\n",
       "      <td>347742</td>\n",
       "      <td>11.1333</td>\n",
       "      <td>NaN</td>\n",
       "      <td>S</td>\n",
       "    </tr>\n",
       "    <tr>\n",
       "      <th>9</th>\n",
       "      <td>10</td>\n",
       "      <td>1</td>\n",
       "      <td>2</td>\n",
       "      <td>Nasser, Mrs. Nicholas (Adele Achem)</td>\n",
       "      <td>female</td>\n",
       "      <td>14.0</td>\n",
       "      <td>1</td>\n",
       "      <td>0</td>\n",
       "      <td>237736</td>\n",
       "      <td>30.0708</td>\n",
       "      <td>NaN</td>\n",
       "      <td>C</td>\n",
       "    </tr>\n",
       "    <tr>\n",
       "      <th>10</th>\n",
       "      <td>11</td>\n",
       "      <td>1</td>\n",
       "      <td>3</td>\n",
       "      <td>Sandstrom, Miss. Marguerite Rut</td>\n",
       "      <td>female</td>\n",
       "      <td>4.0</td>\n",
       "      <td>1</td>\n",
       "      <td>1</td>\n",
       "      <td>PP 9549</td>\n",
       "      <td>16.7000</td>\n",
       "      <td>G6</td>\n",
       "      <td>S</td>\n",
       "    </tr>\n",
       "    <tr>\n",
       "      <th>11</th>\n",
       "      <td>12</td>\n",
       "      <td>1</td>\n",
       "      <td>1</td>\n",
       "      <td>Bonnell, Miss. Elizabeth</td>\n",
       "      <td>female</td>\n",
       "      <td>58.0</td>\n",
       "      <td>0</td>\n",
       "      <td>0</td>\n",
       "      <td>113783</td>\n",
       "      <td>26.5500</td>\n",
       "      <td>C103</td>\n",
       "      <td>S</td>\n",
       "    </tr>\n",
       "    <tr>\n",
       "      <th>12</th>\n",
       "      <td>13</td>\n",
       "      <td>0</td>\n",
       "      <td>3</td>\n",
       "      <td>Saundercock, Mr. William Henry</td>\n",
       "      <td>male</td>\n",
       "      <td>20.0</td>\n",
       "      <td>0</td>\n",
       "      <td>0</td>\n",
       "      <td>A/5. 2151</td>\n",
       "      <td>8.0500</td>\n",
       "      <td>NaN</td>\n",
       "      <td>S</td>\n",
       "    </tr>\n",
       "    <tr>\n",
       "      <th>13</th>\n",
       "      <td>14</td>\n",
       "      <td>0</td>\n",
       "      <td>3</td>\n",
       "      <td>Andersson, Mr. Anders Johan</td>\n",
       "      <td>male</td>\n",
       "      <td>39.0</td>\n",
       "      <td>1</td>\n",
       "      <td>5</td>\n",
       "      <td>347082</td>\n",
       "      <td>31.2750</td>\n",
       "      <td>NaN</td>\n",
       "      <td>S</td>\n",
       "    </tr>\n",
       "    <tr>\n",
       "      <th>14</th>\n",
       "      <td>15</td>\n",
       "      <td>0</td>\n",
       "      <td>3</td>\n",
       "      <td>Vestrom, Miss. Hulda Amanda Adolfina</td>\n",
       "      <td>female</td>\n",
       "      <td>14.0</td>\n",
       "      <td>0</td>\n",
       "      <td>0</td>\n",
       "      <td>350406</td>\n",
       "      <td>7.8542</td>\n",
       "      <td>NaN</td>\n",
       "      <td>S</td>\n",
       "    </tr>\n",
       "    <tr>\n",
       "      <th>15</th>\n",
       "      <td>16</td>\n",
       "      <td>1</td>\n",
       "      <td>2</td>\n",
       "      <td>Hewlett, Mrs. (Mary D Kingcome)</td>\n",
       "      <td>female</td>\n",
       "      <td>55.0</td>\n",
       "      <td>0</td>\n",
       "      <td>0</td>\n",
       "      <td>248706</td>\n",
       "      <td>16.0000</td>\n",
       "      <td>NaN</td>\n",
       "      <td>S</td>\n",
       "    </tr>\n",
       "    <tr>\n",
       "      <th>16</th>\n",
       "      <td>17</td>\n",
       "      <td>0</td>\n",
       "      <td>3</td>\n",
       "      <td>Rice, Master. Eugene</td>\n",
       "      <td>male</td>\n",
       "      <td>2.0</td>\n",
       "      <td>4</td>\n",
       "      <td>1</td>\n",
       "      <td>382652</td>\n",
       "      <td>29.1250</td>\n",
       "      <td>NaN</td>\n",
       "      <td>Q</td>\n",
       "    </tr>\n",
       "    <tr>\n",
       "      <th>17</th>\n",
       "      <td>18</td>\n",
       "      <td>1</td>\n",
       "      <td>2</td>\n",
       "      <td>Williams, Mr. Charles Eugene</td>\n",
       "      <td>male</td>\n",
       "      <td>NaN</td>\n",
       "      <td>0</td>\n",
       "      <td>0</td>\n",
       "      <td>244373</td>\n",
       "      <td>13.0000</td>\n",
       "      <td>NaN</td>\n",
       "      <td>S</td>\n",
       "    </tr>\n",
       "    <tr>\n",
       "      <th>18</th>\n",
       "      <td>19</td>\n",
       "      <td>0</td>\n",
       "      <td>3</td>\n",
       "      <td>Vander Planke, Mrs. Julius (Emelia Maria Vande...</td>\n",
       "      <td>female</td>\n",
       "      <td>31.0</td>\n",
       "      <td>1</td>\n",
       "      <td>0</td>\n",
       "      <td>345763</td>\n",
       "      <td>18.0000</td>\n",
       "      <td>NaN</td>\n",
       "      <td>S</td>\n",
       "    </tr>\n",
       "    <tr>\n",
       "      <th>19</th>\n",
       "      <td>20</td>\n",
       "      <td>1</td>\n",
       "      <td>3</td>\n",
       "      <td>Masselmani, Mrs. Fatima</td>\n",
       "      <td>female</td>\n",
       "      <td>NaN</td>\n",
       "      <td>0</td>\n",
       "      <td>0</td>\n",
       "      <td>2649</td>\n",
       "      <td>7.2250</td>\n",
       "      <td>NaN</td>\n",
       "      <td>C</td>\n",
       "    </tr>\n",
       "  </tbody>\n",
       "</table>\n",
       "</div>"
      ],
      "text/plain": [
       "    PassengerId  Survived  Pclass  \\\n",
       "0             1         0       3   \n",
       "1             2         1       1   \n",
       "2             3         1       3   \n",
       "3             4         1       1   \n",
       "4             5         0       3   \n",
       "5             6         0       3   \n",
       "6             7         0       1   \n",
       "7             8         0       3   \n",
       "8             9         1       3   \n",
       "9            10         1       2   \n",
       "10           11         1       3   \n",
       "11           12         1       1   \n",
       "12           13         0       3   \n",
       "13           14         0       3   \n",
       "14           15         0       3   \n",
       "15           16         1       2   \n",
       "16           17         0       3   \n",
       "17           18         1       2   \n",
       "18           19         0       3   \n",
       "19           20         1       3   \n",
       "\n",
       "                                                 Name     Sex   Age  SibSp  \\\n",
       "0                             Braund, Mr. Owen Harris    male  22.0      1   \n",
       "1   Cumings, Mrs. John Bradley (Florence Briggs Th...  female  38.0      1   \n",
       "2                              Heikkinen, Miss. Laina  female  26.0      0   \n",
       "3        Futrelle, Mrs. Jacques Heath (Lily May Peel)  female  35.0      1   \n",
       "4                            Allen, Mr. William Henry    male  35.0      0   \n",
       "5                                    Moran, Mr. James    male   NaN      0   \n",
       "6                             McCarthy, Mr. Timothy J    male  54.0      0   \n",
       "7                      Palsson, Master. Gosta Leonard    male   2.0      3   \n",
       "8   Johnson, Mrs. Oscar W (Elisabeth Vilhelmina Berg)  female  27.0      0   \n",
       "9                 Nasser, Mrs. Nicholas (Adele Achem)  female  14.0      1   \n",
       "10                    Sandstrom, Miss. Marguerite Rut  female   4.0      1   \n",
       "11                           Bonnell, Miss. Elizabeth  female  58.0      0   \n",
       "12                     Saundercock, Mr. William Henry    male  20.0      0   \n",
       "13                        Andersson, Mr. Anders Johan    male  39.0      1   \n",
       "14               Vestrom, Miss. Hulda Amanda Adolfina  female  14.0      0   \n",
       "15                   Hewlett, Mrs. (Mary D Kingcome)   female  55.0      0   \n",
       "16                               Rice, Master. Eugene    male   2.0      4   \n",
       "17                       Williams, Mr. Charles Eugene    male   NaN      0   \n",
       "18  Vander Planke, Mrs. Julius (Emelia Maria Vande...  female  31.0      1   \n",
       "19                            Masselmani, Mrs. Fatima  female   NaN      0   \n",
       "\n",
       "    Parch            Ticket     Fare Cabin Embarked  \n",
       "0       0         A/5 21171   7.2500   NaN        S  \n",
       "1       0          PC 17599  71.2833   C85        C  \n",
       "2       0  STON/O2. 3101282   7.9250   NaN        S  \n",
       "3       0            113803  53.1000  C123        S  \n",
       "4       0            373450   8.0500   NaN        S  \n",
       "5       0            330877   8.4583   NaN        Q  \n",
       "6       0             17463  51.8625   E46        S  \n",
       "7       1            349909  21.0750   NaN        S  \n",
       "8       2            347742  11.1333   NaN        S  \n",
       "9       0            237736  30.0708   NaN        C  \n",
       "10      1           PP 9549  16.7000    G6        S  \n",
       "11      0            113783  26.5500  C103        S  \n",
       "12      0         A/5. 2151   8.0500   NaN        S  \n",
       "13      5            347082  31.2750   NaN        S  \n",
       "14      0            350406   7.8542   NaN        S  \n",
       "15      0            248706  16.0000   NaN        S  \n",
       "16      1            382652  29.1250   NaN        Q  \n",
       "17      0            244373  13.0000   NaN        S  \n",
       "18      0            345763  18.0000   NaN        S  \n",
       "19      0              2649   7.2250   NaN        C  "
      ]
     },
     "execution_count": 4,
     "metadata": {},
     "output_type": "execute_result"
    }
   ],
   "source": [
    "# Let's start exploring the data set provided\n",
    "df_train.head(20) # Get the data head"
   ]
  },
  {
   "cell_type": "code",
   "execution_count": 5,
   "metadata": {},
   "outputs": [
    {
     "name": "stdout",
     "output_type": "stream",
     "text": [
      "<class 'pandas.core.frame.DataFrame'>\n",
      "RangeIndex: 891 entries, 0 to 890\n",
      "Data columns (total 12 columns):\n",
      " #   Column       Non-Null Count  Dtype  \n",
      "---  ------       --------------  -----  \n",
      " 0   PassengerId  891 non-null    int64  \n",
      " 1   Survived     891 non-null    int64  \n",
      " 2   Pclass       891 non-null    int64  \n",
      " 3   Name         891 non-null    object \n",
      " 4   Sex          891 non-null    object \n",
      " 5   Age          714 non-null    float64\n",
      " 6   SibSp        891 non-null    int64  \n",
      " 7   Parch        891 non-null    int64  \n",
      " 8   Ticket       891 non-null    object \n",
      " 9   Fare         891 non-null    float64\n",
      " 10  Cabin        204 non-null    object \n",
      " 11  Embarked     889 non-null    object \n",
      "dtypes: float64(2), int64(5), object(5)\n",
      "memory usage: 83.7+ KB\n"
     ]
    }
   ],
   "source": [
    "# Let's move on to exploring whether there are missing values\n",
    "df_train.info()  # Get a quick description of the data"
   ]
  },
  {
   "cell_type": "markdown",
   "metadata": {},
   "source": [
    "- Age, cabin, Embarked values are missing\n",
    "- We have floats, integers and object values - We have to convert them beacause classification algorithms\n",
    "  don't work with strings.\n",
    "- What's our apporach to missing values?\n",
    "- Do we need to replace the missing values or is it better to drop them?"
   ]
  },
  {
   "cell_type": "code",
   "execution_count": 6,
   "metadata": {},
   "outputs": [
    {
     "data": {
      "text/html": [
       "<div>\n",
       "<style scoped>\n",
       "    .dataframe tbody tr th:only-of-type {\n",
       "        vertical-align: middle;\n",
       "    }\n",
       "\n",
       "    .dataframe tbody tr th {\n",
       "        vertical-align: top;\n",
       "    }\n",
       "\n",
       "    .dataframe thead th {\n",
       "        text-align: right;\n",
       "    }\n",
       "</style>\n",
       "<table border=\"1\" class=\"dataframe\">\n",
       "  <thead>\n",
       "    <tr style=\"text-align: right;\">\n",
       "      <th></th>\n",
       "      <th>PassengerId</th>\n",
       "      <th>Survived</th>\n",
       "      <th>Pclass</th>\n",
       "      <th>Age</th>\n",
       "      <th>SibSp</th>\n",
       "      <th>Parch</th>\n",
       "      <th>Fare</th>\n",
       "    </tr>\n",
       "  </thead>\n",
       "  <tbody>\n",
       "    <tr>\n",
       "      <th>count</th>\n",
       "      <td>891.000000</td>\n",
       "      <td>891.000000</td>\n",
       "      <td>891.000000</td>\n",
       "      <td>714.000000</td>\n",
       "      <td>891.000000</td>\n",
       "      <td>891.000000</td>\n",
       "      <td>891.000000</td>\n",
       "    </tr>\n",
       "    <tr>\n",
       "      <th>mean</th>\n",
       "      <td>446.000000</td>\n",
       "      <td>0.383838</td>\n",
       "      <td>2.308642</td>\n",
       "      <td>29.699118</td>\n",
       "      <td>0.523008</td>\n",
       "      <td>0.381594</td>\n",
       "      <td>32.204208</td>\n",
       "    </tr>\n",
       "    <tr>\n",
       "      <th>std</th>\n",
       "      <td>257.353842</td>\n",
       "      <td>0.486592</td>\n",
       "      <td>0.836071</td>\n",
       "      <td>14.526497</td>\n",
       "      <td>1.102743</td>\n",
       "      <td>0.806057</td>\n",
       "      <td>49.693429</td>\n",
       "    </tr>\n",
       "    <tr>\n",
       "      <th>min</th>\n",
       "      <td>1.000000</td>\n",
       "      <td>0.000000</td>\n",
       "      <td>1.000000</td>\n",
       "      <td>0.420000</td>\n",
       "      <td>0.000000</td>\n",
       "      <td>0.000000</td>\n",
       "      <td>0.000000</td>\n",
       "    </tr>\n",
       "    <tr>\n",
       "      <th>25%</th>\n",
       "      <td>223.500000</td>\n",
       "      <td>0.000000</td>\n",
       "      <td>2.000000</td>\n",
       "      <td>20.125000</td>\n",
       "      <td>0.000000</td>\n",
       "      <td>0.000000</td>\n",
       "      <td>7.910400</td>\n",
       "    </tr>\n",
       "    <tr>\n",
       "      <th>50%</th>\n",
       "      <td>446.000000</td>\n",
       "      <td>0.000000</td>\n",
       "      <td>3.000000</td>\n",
       "      <td>28.000000</td>\n",
       "      <td>0.000000</td>\n",
       "      <td>0.000000</td>\n",
       "      <td>14.454200</td>\n",
       "    </tr>\n",
       "    <tr>\n",
       "      <th>75%</th>\n",
       "      <td>668.500000</td>\n",
       "      <td>1.000000</td>\n",
       "      <td>3.000000</td>\n",
       "      <td>38.000000</td>\n",
       "      <td>1.000000</td>\n",
       "      <td>0.000000</td>\n",
       "      <td>31.000000</td>\n",
       "    </tr>\n",
       "    <tr>\n",
       "      <th>max</th>\n",
       "      <td>891.000000</td>\n",
       "      <td>1.000000</td>\n",
       "      <td>3.000000</td>\n",
       "      <td>80.000000</td>\n",
       "      <td>8.000000</td>\n",
       "      <td>6.000000</td>\n",
       "      <td>512.329200</td>\n",
       "    </tr>\n",
       "  </tbody>\n",
       "</table>\n",
       "</div>"
      ],
      "text/plain": [
       "       PassengerId    Survived      Pclass         Age       SibSp  \\\n",
       "count   891.000000  891.000000  891.000000  714.000000  891.000000   \n",
       "mean    446.000000    0.383838    2.308642   29.699118    0.523008   \n",
       "std     257.353842    0.486592    0.836071   14.526497    1.102743   \n",
       "min       1.000000    0.000000    1.000000    0.420000    0.000000   \n",
       "25%     223.500000    0.000000    2.000000   20.125000    0.000000   \n",
       "50%     446.000000    0.000000    3.000000   28.000000    0.000000   \n",
       "75%     668.500000    1.000000    3.000000   38.000000    1.000000   \n",
       "max     891.000000    1.000000    3.000000   80.000000    8.000000   \n",
       "\n",
       "            Parch        Fare  \n",
       "count  891.000000  891.000000  \n",
       "mean     0.381594   32.204208  \n",
       "std      0.806057   49.693429  \n",
       "min      0.000000    0.000000  \n",
       "25%      0.000000    7.910400  \n",
       "50%      0.000000   14.454200  \n",
       "75%      0.000000   31.000000  \n",
       "max      6.000000  512.329200  "
      ]
     },
     "execution_count": 6,
     "metadata": {},
     "output_type": "execute_result"
    }
   ],
   "source": [
    "df_train.describe() # Shows a summary of the numerical attributes "
   ]
  },
  {
   "cell_type": "code",
   "execution_count": 7,
   "metadata": {},
   "outputs": [
    {
     "data": {
      "image/png": "[encoded data removed]",
      "text/plain": [
       "<Figure size 1440x1080 with 9 Axes>"
      ]
     },
     "metadata": {
      "needs_background": "light"
     },
     "output_type": "display_data"
    }
   ],
   "source": [
    "# Visualizing the data\n",
    "df_train.hist(bins=50, figsize=(20,15), color =\"#a1c9f4\") # Creating a histogram using data weight\n",
    "plt.show() # Showing the histogram"
   ]
  },
  {
   "cell_type": "markdown",
   "metadata": {},
   "source": [
    "- From the graph above, most of the people did not survived. \n",
    "- We have 8 different values of siblings and 6 for Parch.\n",
    "- We have to investigate more about Fare attribute. Most of the people belonged to the third class, paying a low fare. \n"
   ]
  },
  {
   "cell_type": "markdown",
   "metadata": {},
   "source": [
    "We are already able to answer to few previous questions.\n",
    "1. It's a supervised model - data is labeled.\n",
    "2. Our goal is two find if the passengers survived or not. That's clearly a binary classification - results must be\n",
    "   0 or 1.\n",
    "3. We are going to use Confusion Matrix as a performance measure."
   ]
  },
  {
   "cell_type": "markdown",
   "metadata": {},
   "source": [
    "# DATA EXPLORATION AND PATTERNS IDENTIFICATION"
   ]
  },
  {
   "cell_type": "code",
   "execution_count": 8,
   "metadata": {},
   "outputs": [],
   "source": [
    "# Creating a function to divide the passengers by category and analyze their survival rate\n",
    "def table(df,category,value):\n",
    "    \"\"\"creating a table that shows survival rate related to the category and values chosen\"\"\"\n",
    "    people = df[df[category]== value] # separating data set \n",
    "    n_people_Survived = len(people[people[\"Survived\"]==1])\n",
    "    n_people_NotSurvived = len(people[people[\"Survived\"]==0])\n",
    "    return pd.DataFrame({\"Groups\":category + \" \" + str(value).title(),\n",
    "                         \"Total\":len(people),\n",
    "                          \"Survived\":n_people_Survived,\n",
    "                           \"Not Survived\": n_people_NotSurvived,\n",
    "                         \"% Survived\": n_people_Survived/len(people)}, index = [0])"
   ]
  },
  {
   "cell_type": "code",
   "execution_count": 9,
   "metadata": {},
   "outputs": [
    {
     "data": {
      "text/html": [
       "<div>\n",
       "<style scoped>\n",
       "    .dataframe tbody tr th:only-of-type {\n",
       "        vertical-align: middle;\n",
       "    }\n",
       "\n",
       "    .dataframe tbody tr th {\n",
       "        vertical-align: top;\n",
       "    }\n",
       "\n",
       "    .dataframe thead th {\n",
       "        text-align: right;\n",
       "    }\n",
       "</style>\n",
       "<table border=\"1\" class=\"dataframe\">\n",
       "  <thead>\n",
       "    <tr style=\"text-align: right;\">\n",
       "      <th></th>\n",
       "      <th>Groups</th>\n",
       "      <th>Total</th>\n",
       "      <th>Survived</th>\n",
       "      <th>Not Survived</th>\n",
       "      <th>% Survived</th>\n",
       "    </tr>\n",
       "  </thead>\n",
       "  <tbody>\n",
       "    <tr>\n",
       "      <th>0</th>\n",
       "      <td>Pclass 1</td>\n",
       "      <td>216</td>\n",
       "      <td>136</td>\n",
       "      <td>80</td>\n",
       "      <td>0.629630</td>\n",
       "    </tr>\n",
       "    <tr>\n",
       "      <th>0</th>\n",
       "      <td>Pclass 2</td>\n",
       "      <td>184</td>\n",
       "      <td>87</td>\n",
       "      <td>97</td>\n",
       "      <td>0.472826</td>\n",
       "    </tr>\n",
       "    <tr>\n",
       "      <th>0</th>\n",
       "      <td>Pclass 3</td>\n",
       "      <td>491</td>\n",
       "      <td>119</td>\n",
       "      <td>372</td>\n",
       "      <td>0.242363</td>\n",
       "    </tr>\n",
       "  </tbody>\n",
       "</table>\n",
       "</div>"
      ],
      "text/plain": [
       "     Groups  Total  Survived  Not Survived  % Survived\n",
       "0  Pclass 1    216       136            80    0.629630\n",
       "0  Pclass 2    184        87            97    0.472826\n",
       "0  Pclass 3    491       119           372    0.242363"
      ]
     },
     "execution_count": 9,
     "metadata": {},
     "output_type": "execute_result"
    }
   ],
   "source": [
    "# Let's explore the Pclass category\n",
    "table_Pclass = pd.concat([table(df_train,\"Pclass\",1),table(df_train,\"Pclass\",2),table(df_train,\"Pclass\",3)])\n",
    "table_Pclass"
   ]
  },
  {
   "cell_type": "code",
   "execution_count": 10,
   "metadata": {},
   "outputs": [
    {
     "data": {
      "image/png": "[encoded data removed]",
      "text/plain": [
       "<Figure size 432x288 with 1 Axes>"
      ]
     },
     "metadata": {
      "needs_background": "light"
     },
     "output_type": "display_data"
    }
   ],
   "source": [
    "# Plotting table_Pclass table\n",
    "ax = table_Pclass.plot.bar(x=\"Groups\", y=\"% Survived\", rot=0, color=(\"#a1c9f4\"))\n",
    "plt.ylabel(\"Survived / Total by Pclass\")\n",
    "plt.legend([\"% Survived\"])\n",
    "plt.title(\"People Survived Compared by Pclass group\")\n",
    "plt.show()"
   ]
  },
  {
   "cell_type": "code",
   "execution_count": 11,
   "metadata": {},
   "outputs": [],
   "source": [
    "# We noticed that Names include titles. They can give us important information.\n",
    "# Extracting titles from Name attribute\n",
    "df_train[\"Title\"] = df_train.Name.str.extract(\"([A-Za-z]+)\\.\", expand=False)\n",
    "df_test[\"Title\"] = df_test.Name.str.extract(\"([A-Za-z]+)\\.\", expand=False)"
   ]
  },
  {
   "cell_type": "code",
   "execution_count": null,
   "metadata": {},
   "outputs": [],
   "source": [
    "# Extra:\n",
    "# If you don't know regular expressions you can work around it using split function\n",
    "def extract_title(df,category,value):\n",
    "    \"\"\"a function that extracts a title from a name\"\"\"\n",
    "    surname, title_name ,*rest= df[category][value].split(\",\")\n",
    "    title_ , name ,*rest= title_name.split(\".\")\n",
    "    return title_.title().strip()\n",
    "\n",
    "# Creating an attribute called Title and extracting all of the titles from names\n",
    "df_train[\"Title\"] = \"\"\n",
    "for x in range(0,len(df_train)):\n",
    "    df_train[\"Title\"][x] = extract_title(df_train,\"Name\",x)"
   ]
  },
  {
   "cell_type": "code",
   "execution_count": 12,
   "metadata": {},
   "outputs": [
    {
     "data": {
      "text/plain": [
       "Mr          517\n",
       "Miss        182\n",
       "Mrs         125\n",
       "Master       40\n",
       "Dr            7\n",
       "Rev           6\n",
       "Mlle          2\n",
       "Col           2\n",
       "Major         2\n",
       "Mme           1\n",
       "Countess      1\n",
       "Capt          1\n",
       "Sir           1\n",
       "Don           1\n",
       "Ms            1\n",
       "Jonkheer      1\n",
       "Lady          1\n",
       "Name: Title, dtype: int64"
      ]
     },
     "execution_count": 12,
     "metadata": {},
     "output_type": "execute_result"
    }
   ],
   "source": [
    "# Looking at the Title frequency\n",
    "df_train[\"Title\"].value_counts()"
   ]
  },
  {
   "cell_type": "code",
   "execution_count": 13,
   "metadata": {},
   "outputs": [
    {
     "data": {
      "text/html": [
       "<div>\n",
       "<style scoped>\n",
       "    .dataframe tbody tr th:only-of-type {\n",
       "        vertical-align: middle;\n",
       "    }\n",
       "\n",
       "    .dataframe tbody tr th {\n",
       "        vertical-align: top;\n",
       "    }\n",
       "\n",
       "    .dataframe thead th {\n",
       "        text-align: right;\n",
       "    }\n",
       "</style>\n",
       "<table border=\"1\" class=\"dataframe\">\n",
       "  <thead>\n",
       "    <tr style=\"text-align: right;\">\n",
       "      <th></th>\n",
       "      <th>Groups</th>\n",
       "      <th>Total</th>\n",
       "      <th>Survived</th>\n",
       "      <th>Not Survived</th>\n",
       "      <th>% Survived</th>\n",
       "    </tr>\n",
       "  </thead>\n",
       "  <tbody>\n",
       "    <tr>\n",
       "      <th>0</th>\n",
       "      <td>Title Mr</td>\n",
       "      <td>517</td>\n",
       "      <td>81</td>\n",
       "      <td>436</td>\n",
       "      <td>0.156673</td>\n",
       "    </tr>\n",
       "    <tr>\n",
       "      <th>0</th>\n",
       "      <td>Title Miss</td>\n",
       "      <td>182</td>\n",
       "      <td>127</td>\n",
       "      <td>55</td>\n",
       "      <td>0.697802</td>\n",
       "    </tr>\n",
       "    <tr>\n",
       "      <th>0</th>\n",
       "      <td>Title Mrs</td>\n",
       "      <td>125</td>\n",
       "      <td>99</td>\n",
       "      <td>26</td>\n",
       "      <td>0.792000</td>\n",
       "    </tr>\n",
       "    <tr>\n",
       "      <th>0</th>\n",
       "      <td>Title Master</td>\n",
       "      <td>40</td>\n",
       "      <td>23</td>\n",
       "      <td>17</td>\n",
       "      <td>0.575000</td>\n",
       "    </tr>\n",
       "    <tr>\n",
       "      <th>0</th>\n",
       "      <td>Title Dr</td>\n",
       "      <td>7</td>\n",
       "      <td>3</td>\n",
       "      <td>4</td>\n",
       "      <td>0.428571</td>\n",
       "    </tr>\n",
       "    <tr>\n",
       "      <th>0</th>\n",
       "      <td>Title Rev</td>\n",
       "      <td>6</td>\n",
       "      <td>0</td>\n",
       "      <td>6</td>\n",
       "      <td>0.000000</td>\n",
       "    </tr>\n",
       "  </tbody>\n",
       "</table>\n",
       "</div>"
      ],
      "text/plain": [
       "         Groups  Total  Survived  Not Survived  % Survived\n",
       "0      Title Mr    517        81           436    0.156673\n",
       "0    Title Miss    182       127            55    0.697802\n",
       "0     Title Mrs    125        99            26    0.792000\n",
       "0  Title Master     40        23            17    0.575000\n",
       "0      Title Dr      7         3             4    0.428571\n",
       "0     Title Rev      6         0             6    0.000000"
      ]
     },
     "execution_count": 13,
     "metadata": {},
     "output_type": "execute_result"
    }
   ],
   "source": [
    "# Creating a table grouping titles and comparing their survival rate\n",
    "table_title = pd.concat([table(df_train,\"Title\",\"Mr\"),table(df_train,\"Title\",\"Miss\"),\n",
    "                         table(df_train,\"Title\",\"Mrs\"),table(df_train,\"Title\",\"Master\")\n",
    "                       ,table(df_train,\"Title\",\"Dr\"),table(df_train,\"Title\",\"Rev\")])\n",
    "table_title"
   ]
  },
  {
   "cell_type": "code",
   "execution_count": 14,
   "metadata": {},
   "outputs": [],
   "source": [
    "# In order to have the same numbers of categories in the train and test set,\n",
    "# it's better to incorporate all titles in 5 similar categories\n",
    "titles = {\"Mr\": 1, \"Miss\": 2, \"Mrs\": 3, \"Master\": 4, \"Rare\": 5}\n",
    "for df in data:\n",
    "    # Replacing titles\n",
    "    df[\"Title\"] = df[\"Title\"].replace([\"Lady\", \"Countess\",\"Capt\", \"Col\",\"Don\", \"Dr\",\\\n",
    "                                            \"Major\", \"Rev\", \"Sir\", \"Jonkheer\", \"Dona\"], \"Rare\")\n",
    "    df[\"Title\"] = df[\"Title\"].replace(\"Mlle\", \"Miss\")\n",
    "    df[\"Title\"] = df[\"Title\"].replace(\"Ms\", \"Miss\")\n",
    "    df[\"Title\"] = df[\"Title\"].replace(\"Mme\", \"Mrs\")\n",
    "    # Converting titles into numbers\n",
    "    df[\"Title\"] = df[\"Title\"].map(titles)\n",
    "    # Filling NaN with 0, to get safe\n",
    "    df[\"Title\"] = df[\"Title\"].fillna(0)"
   ]
  },
  {
   "cell_type": "markdown",
   "metadata": {},
   "source": [
    "We gain a good insight from titles. Women have the highest survival rate. \n",
    "Let's move on to dividing Sex attribute between female and male."
   ]
  },
  {
   "cell_type": "code",
   "execution_count": 15,
   "metadata": {},
   "outputs": [
    {
     "data": {
      "text/html": [
       "<div>\n",
       "<style scoped>\n",
       "    .dataframe tbody tr th:only-of-type {\n",
       "        vertical-align: middle;\n",
       "    }\n",
       "\n",
       "    .dataframe tbody tr th {\n",
       "        vertical-align: top;\n",
       "    }\n",
       "\n",
       "    .dataframe thead th {\n",
       "        text-align: right;\n",
       "    }\n",
       "</style>\n",
       "<table border=\"1\" class=\"dataframe\">\n",
       "  <thead>\n",
       "    <tr style=\"text-align: right;\">\n",
       "      <th></th>\n",
       "      <th>Groups</th>\n",
       "      <th>Total</th>\n",
       "      <th>Survived</th>\n",
       "      <th>Not Survived</th>\n",
       "      <th>% Survived</th>\n",
       "    </tr>\n",
       "  </thead>\n",
       "  <tbody>\n",
       "    <tr>\n",
       "      <th>0</th>\n",
       "      <td>Sex Male</td>\n",
       "      <td>577</td>\n",
       "      <td>109</td>\n",
       "      <td>468</td>\n",
       "      <td>0.188908</td>\n",
       "    </tr>\n",
       "    <tr>\n",
       "      <th>0</th>\n",
       "      <td>Sex Female</td>\n",
       "      <td>314</td>\n",
       "      <td>233</td>\n",
       "      <td>81</td>\n",
       "      <td>0.742038</td>\n",
       "    </tr>\n",
       "  </tbody>\n",
       "</table>\n",
       "</div>"
      ],
      "text/plain": [
       "       Groups  Total  Survived  Not Survived  % Survived\n",
       "0    Sex Male    577       109           468    0.188908\n",
       "0  Sex Female    314       233            81    0.742038"
      ]
     },
     "execution_count": 15,
     "metadata": {},
     "output_type": "execute_result"
    }
   ],
   "source": [
    "# Creating a gender table analysis\n",
    "table_gender = pd.concat([table(df_train,\"Sex\",\"male\"),table(df_train,\"Sex\",\"female\")])\n",
    "table_gender"
   ]
  },
  {
   "cell_type": "code",
   "execution_count": 16,
   "metadata": {},
   "outputs": [
    {
     "data": {
      "image/png": "[encoded data removed]",
      "text/plain": [
       "<Figure size 720x288 with 2 Axes>"
      ]
     },
     "metadata": {
      "needs_background": "light"
     },
     "output_type": "display_data"
    }
   ],
   "source": [
    "# Plotting table_gender by their Age.\n",
    "fig, axes = plt.subplots(nrows=1, ncols=2,figsize=(10, 4))\n",
    "\n",
    "women = df_train[df_train[\"Sex\"]==\"female\"]\n",
    "men = df_train[df_train[\"Sex\"]==\"male\"]\n",
    "\n",
    "ax = sns.histplot(women[women[\"Survived\"]==1].Age.dropna(), bins=18, label = \"survived\", ax = axes[0],\n",
    "                  color=\"#a1c9f4\",kde =False)\n",
    "ax = sns.histplot(women[women[\"Survived\"]==0].Age.dropna(), bins=40, label = \"not survived\", ax = axes[0],\n",
    "                  color=\"khaki\", kde =False)\n",
    "ax.legend()\n",
    "ax.set_title(\"Female\")\n",
    "\n",
    "ax = sns.histplot(men[men[\"Survived\"]==1].Age.dropna(), bins=18, label = \"survived\", ax = axes[1], \n",
    "                  color=\"#a1c9f4\", kde = False)\n",
    "ax = sns.histplot(men[men[\"Survived\"]==0].Age.dropna(), bins=40, label = \"not survived\", ax = axes[1], \n",
    "                  color=\"khaki\",kde = False)\n",
    "ax.legend()\n",
    "_ = ax.set_title(\"Male\")\n"
   ]
  },
  {
   "cell_type": "markdown",
   "metadata": {},
   "source": [
    "Evidences:\n",
    "- Females are more likely to survive\n",
    "- Children are more likely to survive\n",
    "- We should divide age in categories in order to outilne that children were more likely to survive"
   ]
  },
  {
   "cell_type": "code",
   "execution_count": 17,
   "metadata": {},
   "outputs": [
    {
     "data": {
      "text/html": [
       "<div>\n",
       "<style scoped>\n",
       "    .dataframe tbody tr th:only-of-type {\n",
       "        vertical-align: middle;\n",
       "    }\n",
       "\n",
       "    .dataframe tbody tr th {\n",
       "        vertical-align: top;\n",
       "    }\n",
       "\n",
       "    .dataframe thead th {\n",
       "        text-align: right;\n",
       "    }\n",
       "</style>\n",
       "<table border=\"1\" class=\"dataframe\">\n",
       "  <thead>\n",
       "    <tr style=\"text-align: right;\">\n",
       "      <th></th>\n",
       "      <th>Groups</th>\n",
       "      <th>Total</th>\n",
       "      <th>Survived</th>\n",
       "      <th>Not Survived</th>\n",
       "      <th>% Survived</th>\n",
       "    </tr>\n",
       "  </thead>\n",
       "  <tbody>\n",
       "    <tr>\n",
       "      <th>0</th>\n",
       "      <td>Parch 0</td>\n",
       "      <td>678</td>\n",
       "      <td>233</td>\n",
       "      <td>445</td>\n",
       "      <td>0.343658</td>\n",
       "    </tr>\n",
       "    <tr>\n",
       "      <th>0</th>\n",
       "      <td>Parch 1</td>\n",
       "      <td>118</td>\n",
       "      <td>65</td>\n",
       "      <td>53</td>\n",
       "      <td>0.550847</td>\n",
       "    </tr>\n",
       "    <tr>\n",
       "      <th>0</th>\n",
       "      <td>Parch 2</td>\n",
       "      <td>80</td>\n",
       "      <td>40</td>\n",
       "      <td>40</td>\n",
       "      <td>0.500000</td>\n",
       "    </tr>\n",
       "    <tr>\n",
       "      <th>0</th>\n",
       "      <td>Parch 3</td>\n",
       "      <td>5</td>\n",
       "      <td>3</td>\n",
       "      <td>2</td>\n",
       "      <td>0.600000</td>\n",
       "    </tr>\n",
       "    <tr>\n",
       "      <th>0</th>\n",
       "      <td>Parch 4</td>\n",
       "      <td>4</td>\n",
       "      <td>0</td>\n",
       "      <td>4</td>\n",
       "      <td>0.000000</td>\n",
       "    </tr>\n",
       "    <tr>\n",
       "      <th>0</th>\n",
       "      <td>Parch 5</td>\n",
       "      <td>5</td>\n",
       "      <td>1</td>\n",
       "      <td>4</td>\n",
       "      <td>0.200000</td>\n",
       "    </tr>\n",
       "    <tr>\n",
       "      <th>0</th>\n",
       "      <td>Parch 6</td>\n",
       "      <td>1</td>\n",
       "      <td>0</td>\n",
       "      <td>1</td>\n",
       "      <td>0.000000</td>\n",
       "    </tr>\n",
       "  </tbody>\n",
       "</table>\n",
       "</div>"
      ],
      "text/plain": [
       "    Groups  Total  Survived  Not Survived  % Survived\n",
       "0  Parch 0    678       233           445    0.343658\n",
       "0  Parch 1    118        65            53    0.550847\n",
       "0  Parch 2     80        40            40    0.500000\n",
       "0  Parch 3      5         3             2    0.600000\n",
       "0  Parch 4      4         0             4    0.000000\n",
       "0  Parch 5      5         1             4    0.200000\n",
       "0  Parch 6      1         0             1    0.000000"
      ]
     },
     "execution_count": 17,
     "metadata": {},
     "output_type": "execute_result"
    }
   ],
   "source": [
    "# Let's move on Sibs and Parch analysis\n",
    "table_parch = pd.concat([table(df_train,\"Parch\",0),table(df_train,\"Parch\",1),table(df_train,\"Parch\",2),\n",
    "              table(df_train,\"Parch\",3),table(df_train,\"Parch\",4),table(df_train,\"Parch\",5),\n",
    "                         table(df_train,\"Parch\",6)])\n",
    "\n",
    "table_parch"
   ]
  },
  {
   "cell_type": "code",
   "execution_count": 18,
   "metadata": {},
   "outputs": [
    {
     "data": {
      "text/html": [
       "<div>\n",
       "<style scoped>\n",
       "    .dataframe tbody tr th:only-of-type {\n",
       "        vertical-align: middle;\n",
       "    }\n",
       "\n",
       "    .dataframe tbody tr th {\n",
       "        vertical-align: top;\n",
       "    }\n",
       "\n",
       "    .dataframe thead th {\n",
       "        text-align: right;\n",
       "    }\n",
       "</style>\n",
       "<table border=\"1\" class=\"dataframe\">\n",
       "  <thead>\n",
       "    <tr style=\"text-align: right;\">\n",
       "      <th></th>\n",
       "      <th>Groups</th>\n",
       "      <th>Total</th>\n",
       "      <th>Survived</th>\n",
       "      <th>Not Survived</th>\n",
       "      <th>% Survived</th>\n",
       "    </tr>\n",
       "  </thead>\n",
       "  <tbody>\n",
       "    <tr>\n",
       "      <th>0</th>\n",
       "      <td>SibSp 0</td>\n",
       "      <td>608</td>\n",
       "      <td>210</td>\n",
       "      <td>398</td>\n",
       "      <td>0.345395</td>\n",
       "    </tr>\n",
       "    <tr>\n",
       "      <th>0</th>\n",
       "      <td>SibSp 1</td>\n",
       "      <td>209</td>\n",
       "      <td>112</td>\n",
       "      <td>97</td>\n",
       "      <td>0.535885</td>\n",
       "    </tr>\n",
       "    <tr>\n",
       "      <th>0</th>\n",
       "      <td>SibSp 2</td>\n",
       "      <td>28</td>\n",
       "      <td>13</td>\n",
       "      <td>15</td>\n",
       "      <td>0.464286</td>\n",
       "    </tr>\n",
       "    <tr>\n",
       "      <th>0</th>\n",
       "      <td>SibSp 3</td>\n",
       "      <td>16</td>\n",
       "      <td>4</td>\n",
       "      <td>12</td>\n",
       "      <td>0.250000</td>\n",
       "    </tr>\n",
       "    <tr>\n",
       "      <th>0</th>\n",
       "      <td>SibSp 4</td>\n",
       "      <td>18</td>\n",
       "      <td>3</td>\n",
       "      <td>15</td>\n",
       "      <td>0.166667</td>\n",
       "    </tr>\n",
       "    <tr>\n",
       "      <th>0</th>\n",
       "      <td>SibSp 5</td>\n",
       "      <td>5</td>\n",
       "      <td>0</td>\n",
       "      <td>5</td>\n",
       "      <td>0.000000</td>\n",
       "    </tr>\n",
       "    <tr>\n",
       "      <th>0</th>\n",
       "      <td>SibSp 8</td>\n",
       "      <td>7</td>\n",
       "      <td>0</td>\n",
       "      <td>7</td>\n",
       "      <td>0.000000</td>\n",
       "    </tr>\n",
       "  </tbody>\n",
       "</table>\n",
       "</div>"
      ],
      "text/plain": [
       "    Groups  Total  Survived  Not Survived  % Survived\n",
       "0  SibSp 0    608       210           398    0.345395\n",
       "0  SibSp 1    209       112            97    0.535885\n",
       "0  SibSp 2     28        13            15    0.464286\n",
       "0  SibSp 3     16         4            12    0.250000\n",
       "0  SibSp 4     18         3            15    0.166667\n",
       "0  SibSp 5      5         0             5    0.000000\n",
       "0  SibSp 8      7         0             7    0.000000"
      ]
     },
     "execution_count": 18,
     "metadata": {},
     "output_type": "execute_result"
    }
   ],
   "source": [
    "table_SibSp = pd.concat([table(df_train,\"SibSp\",0),table(df_train,\"SibSp\",1),table(df_train,\"SibSp\",2),\n",
    "                         table(df_train,\"SibSp\",3), table(df_train,\"SibSp\",4),table(df_train,\"SibSp\",5),\n",
    "                         table(df_train,\"SibSp\",8)])\n",
    "table_SibSp"
   ]
  },
  {
   "cell_type": "code",
   "execution_count": 19,
   "metadata": {},
   "outputs": [
    {
     "data": {
      "text/plain": [
       "<AxesSubplot:title={'center':'Parch'}, xlabel='Parch'>"
      ]
     },
     "execution_count": 19,
     "metadata": {},
     "output_type": "execute_result"
    },
    {
     "data": {
      "image/png": "[encoded data removed]",
      "text/plain": [
       "<Figure size 1224x360 with 2 Axes>"
      ]
     },
     "metadata": {
      "needs_background": "light"
     },
     "output_type": "display_data"
    }
   ],
   "source": [
    "# Let's visualize the findings\n",
    "colors = [\"khaki\",\"#a1c9f4\"]\n",
    "fig, axes = plt.subplots(ncols=2,figsize=(17, 5))\n",
    "df_train.pivot_table(\"PassengerId\", [\"SibSp\"], \"Survived\", \"count\").plot(ax=axes[0], title=\"SibSp\", \n",
    "                                                                         color = colors,linewidth=6)\n",
    "df_train.pivot_table(\"PassengerId\", [\"Parch\"], \"Survived\", \"count\").plot(ax=axes[1], title=\"Parch\", \n",
    "                                                                         color = colors,linewidth=6)"
   ]
  },
  {
   "cell_type": "markdown",
   "metadata": {},
   "source": [
    "- People alone and people with less than 2 family members have the highest survival rate.\n",
    "- This data is not telling us that much. It seems that there is a modest relationship between family members and people who have survived.\n",
    "- We should consider creating a new attribute called Family that includes both Sibs and Parch.\n",
    "- We should consider creating a new attribute called Alone - People Alone have highest survival rate.\n",
    "- The attribute Alone will be structured as follows: people without family members get values = 0\n",
    "  and people with family members get value 1\n",
    "\n",
    "Tip:\n",
    "- Be consistent with colors when you are visualizing your data. For ex. I'm always using blue for passengers who have survived, and yellow for passengers who have not survived."
   ]
  },
  {
   "cell_type": "markdown",
   "metadata": {},
   "source": [
    " Let's move on with the cabin analysis\n",
    "- We don't have a lot of information about the cabin attribute\n",
    "- We can give value 0 to the people that don't have the cabin\n",
    "- We can give value 1 to the people that have the cabin"
   ]
  },
  {
   "cell_type": "code",
   "execution_count": 20,
   "metadata": {},
   "outputs": [
    {
     "data": {
      "text/plain": [
       "C23 C25 C27    4\n",
       "B96 B98        4\n",
       "G6             4\n",
       "D              3\n",
       "E101           3\n",
       "              ..\n",
       "C32            1\n",
       "C47            1\n",
       "C110           1\n",
       "B101           1\n",
       "F38            1\n",
       "Name: Cabin, Length: 147, dtype: int64"
      ]
     },
     "execution_count": 20,
     "metadata": {},
     "output_type": "execute_result"
    }
   ],
   "source": [
    "# Visualizing cabin values\n",
    "df_train[\"Cabin\"].value_counts()"
   ]
  },
  {
   "cell_type": "code",
   "execution_count": 21,
   "metadata": {},
   "outputs": [],
   "source": [
    "# Most of Cabin values are missing. Let's give value 1 to the people that have a cabin, and 0 to people\n",
    "# who don't have it.\n",
    "for x in data:\n",
    "    x[\"Cabin\"] = pd.Series([1 if not pd.isnull(i) else 0 for i in x[\"Cabin\"]])"
   ]
  },
  {
   "cell_type": "code",
   "execution_count": 22,
   "metadata": {},
   "outputs": [
    {
     "data": {
      "text/html": [
       "<div>\n",
       "<style scoped>\n",
       "    .dataframe tbody tr th:only-of-type {\n",
       "        vertical-align: middle;\n",
       "    }\n",
       "\n",
       "    .dataframe tbody tr th {\n",
       "        vertical-align: top;\n",
       "    }\n",
       "\n",
       "    .dataframe thead th {\n",
       "        text-align: right;\n",
       "    }\n",
       "</style>\n",
       "<table border=\"1\" class=\"dataframe\">\n",
       "  <thead>\n",
       "    <tr style=\"text-align: right;\">\n",
       "      <th></th>\n",
       "      <th>Groups</th>\n",
       "      <th>Total</th>\n",
       "      <th>Survived</th>\n",
       "      <th>Not Survived</th>\n",
       "      <th>% Survived</th>\n",
       "    </tr>\n",
       "  </thead>\n",
       "  <tbody>\n",
       "    <tr>\n",
       "      <th>0</th>\n",
       "      <td>Cabin 0</td>\n",
       "      <td>687</td>\n",
       "      <td>206</td>\n",
       "      <td>481</td>\n",
       "      <td>0.299854</td>\n",
       "    </tr>\n",
       "    <tr>\n",
       "      <th>0</th>\n",
       "      <td>Cabin 1</td>\n",
       "      <td>204</td>\n",
       "      <td>136</td>\n",
       "      <td>68</td>\n",
       "      <td>0.666667</td>\n",
       "    </tr>\n",
       "  </tbody>\n",
       "</table>\n",
       "</div>"
      ],
      "text/plain": [
       "    Groups  Total  Survived  Not Survived  % Survived\n",
       "0  Cabin 0    687       206           481    0.299854\n",
       "0  Cabin 1    204       136            68    0.666667"
      ]
     },
     "execution_count": 22,
     "metadata": {},
     "output_type": "execute_result"
    }
   ],
   "source": [
    "table_cabin = pd.concat([table(df_train,\"Cabin\",0),table(df_train,\"Cabin\",1)])\n",
    "table_cabin"
   ]
  },
  {
   "cell_type": "markdown",
   "metadata": {},
   "source": [
    "- That was a good call. People who have a cabin have a higher survival rate -People who have a cabin have a higher \n",
    "survival rate. When cabin = 0, it means that they have no cabin, cabin = 1 means they have a cabin. "
   ]
  },
  {
   "cell_type": "code",
   "execution_count": 23,
   "metadata": {},
   "outputs": [
    {
     "data": {
      "text/html": [
       "<div>\n",
       "<style scoped>\n",
       "    .dataframe tbody tr th:only-of-type {\n",
       "        vertical-align: middle;\n",
       "    }\n",
       "\n",
       "    .dataframe tbody tr th {\n",
       "        vertical-align: top;\n",
       "    }\n",
       "\n",
       "    .dataframe thead th {\n",
       "        text-align: right;\n",
       "    }\n",
       "</style>\n",
       "<table border=\"1\" class=\"dataframe\">\n",
       "  <thead>\n",
       "    <tr style=\"text-align: right;\">\n",
       "      <th></th>\n",
       "      <th>Groups</th>\n",
       "      <th>Total</th>\n",
       "      <th>Survived</th>\n",
       "      <th>Not Survived</th>\n",
       "      <th>% Survived</th>\n",
       "    </tr>\n",
       "  </thead>\n",
       "  <tbody>\n",
       "    <tr>\n",
       "      <th>0</th>\n",
       "      <td>Embarked Q</td>\n",
       "      <td>77</td>\n",
       "      <td>30</td>\n",
       "      <td>47</td>\n",
       "      <td>0.389610</td>\n",
       "    </tr>\n",
       "    <tr>\n",
       "      <th>0</th>\n",
       "      <td>Embarked S</td>\n",
       "      <td>644</td>\n",
       "      <td>217</td>\n",
       "      <td>427</td>\n",
       "      <td>0.336957</td>\n",
       "    </tr>\n",
       "    <tr>\n",
       "      <th>0</th>\n",
       "      <td>Embarked C</td>\n",
       "      <td>168</td>\n",
       "      <td>93</td>\n",
       "      <td>75</td>\n",
       "      <td>0.553571</td>\n",
       "    </tr>\n",
       "  </tbody>\n",
       "</table>\n",
       "</div>"
      ],
      "text/plain": [
       "       Groups  Total  Survived  Not Survived  % Survived\n",
       "0  Embarked Q     77        30            47    0.389610\n",
       "0  Embarked S    644       217           427    0.336957\n",
       "0  Embarked C    168        93            75    0.553571"
      ]
     },
     "execution_count": 23,
     "metadata": {},
     "output_type": "execute_result"
    }
   ],
   "source": [
    "# Let's explore the last attribute - Embarked\n",
    "table_Embarked = pd.concat([table(df_train,\"Embarked\",\"Q\"),table(df_train,\"Embarked\",\"S\"),\n",
    "                            table(df_train,\"Embarked\",\"C\")])\n",
    "table_Embarked"
   ]
  },
  {
   "cell_type": "code",
   "execution_count": 24,
   "metadata": {},
   "outputs": [
    {
     "data": {
      "image/png": "[encoded data removed]",
      "text/plain": [
       "<Figure size 432x288 with 1 Axes>"
      ]
     },
     "metadata": {
      "needs_background": "light"
     },
     "output_type": "display_data"
    }
   ],
   "source": [
    "# Plotting table_Embarked\n",
    "ax = table_Embarked.plot.bar(x=\"Groups\", y=\"% Survived\", rot=0, color=\"#a1c9f4\")\n",
    "plt.xlabel(\"Docks\")\n",
    "plt.ylabel(\"Survived / Total by Embarked\")\n",
    "plt.legend([\"% Survived\"])\n",
    "plt.title(\"People Survived divided by Embarked location\")\n",
    "plt.show()"
   ]
  },
  {
   "cell_type": "markdown",
   "metadata": {},
   "source": [
    " - We can hypothesize that people in first and second class embarked from C dock and the other class from\n",
    "  S and Q docks."
   ]
  },
  {
   "cell_type": "code",
   "execution_count": 25,
   "metadata": {},
   "outputs": [
    {
     "data": {
      "text/plain": [
       "<seaborn.axisgrid.FacetGrid at 0x7f9037188c90>"
      ]
     },
     "execution_count": 25,
     "metadata": {},
     "output_type": "execute_result"
    },
    {
     "data": {
      "image/png": "[encoded data removed]",
      "text/plain": [
       "<Figure size 1296x432 with 3 Axes>"
      ]
     },
     "metadata": {
      "needs_background": "light"
     },
     "output_type": "display_data"
    }
   ],
   "source": [
    "Embarked_chart = sns.catplot(x=\"Pclass\", col=\"Embarked\",  data=df_train,\n",
    "                   height=6, kind=\"count\", palette=\"pastel\")\n",
    "Embarked_chart.set_ylabels(\"Count\")"
   ]
  },
  {
   "cell_type": "markdown",
   "metadata": {},
   "source": [
    "- From dock Q, most of the people belong to third class. Embarked C has the highest survival rate.\n",
    "- The data doesn't help us gain any further insights."
   ]
  },
  {
   "cell_type": "markdown",
   "metadata": {},
   "source": [
    "- Hold on. We have to explore if women with children have a higher survival rate and\n",
    "  if women in the first two classes have a higher survival rate.\n"
   ]
  },
  {
   "cell_type": "code",
   "execution_count": 26,
   "metadata": {},
   "outputs": [],
   "source": [
    "# Let's create a new function that allow us to compare multiple attributes\n",
    "def table2(df,category1,value1,category2,value2):\n",
    "    \"\"\"a function that creates a table that shows survival percentages related to categories and \n",
    "    values chosen\"\"\"\n",
    "    people_cat1 = df[df[category1]== value1] # Separating data set\n",
    "    people = people_cat1[people_cat1[category2]== value2]\n",
    "    n_people_Survived = len(people[people[\"Survived\"]==1])\n",
    "    n_people_NotSurvived = len(people[people[\"Survived\"]==0])\n",
    "    return pd.DataFrame({\"Groups\":category1 + \" \" + str(value1).title() +\" \"+ category2 +\" \"+ str(value2).title(),\n",
    "                         \"Total\":len(people),\n",
    "                         \"Survived\":n_people_Survived,\n",
    "                         \"Not survived\": n_people_NotSurvived,\n",
    "                         \"% survived\": n_people_Survived/len(people)}, index = [0])\n",
    "\n"
   ]
  },
  {
   "cell_type": "code",
   "execution_count": 27,
   "metadata": {},
   "outputs": [
    {
     "data": {
      "text/html": [
       "<div>\n",
       "<style scoped>\n",
       "    .dataframe tbody tr th:only-of-type {\n",
       "        vertical-align: middle;\n",
       "    }\n",
       "\n",
       "    .dataframe tbody tr th {\n",
       "        vertical-align: top;\n",
       "    }\n",
       "\n",
       "    .dataframe thead th {\n",
       "        text-align: right;\n",
       "    }\n",
       "</style>\n",
       "<table border=\"1\" class=\"dataframe\">\n",
       "  <thead>\n",
       "    <tr style=\"text-align: right;\">\n",
       "      <th></th>\n",
       "      <th>Groups</th>\n",
       "      <th>Total</th>\n",
       "      <th>Survived</th>\n",
       "      <th>Not survived</th>\n",
       "      <th>% survived</th>\n",
       "    </tr>\n",
       "  </thead>\n",
       "  <tbody>\n",
       "    <tr>\n",
       "      <th>0</th>\n",
       "      <td>Sex Female Pclass 1</td>\n",
       "      <td>94</td>\n",
       "      <td>91</td>\n",
       "      <td>3</td>\n",
       "      <td>0.968085</td>\n",
       "    </tr>\n",
       "    <tr>\n",
       "      <th>0</th>\n",
       "      <td>Sex Female Pclass 2</td>\n",
       "      <td>76</td>\n",
       "      <td>70</td>\n",
       "      <td>6</td>\n",
       "      <td>0.921053</td>\n",
       "    </tr>\n",
       "    <tr>\n",
       "      <th>0</th>\n",
       "      <td>Sex Female Pclass 3</td>\n",
       "      <td>144</td>\n",
       "      <td>72</td>\n",
       "      <td>72</td>\n",
       "      <td>0.500000</td>\n",
       "    </tr>\n",
       "    <tr>\n",
       "      <th>0</th>\n",
       "      <td>Sex Male Pclass 1</td>\n",
       "      <td>122</td>\n",
       "      <td>45</td>\n",
       "      <td>77</td>\n",
       "      <td>0.368852</td>\n",
       "    </tr>\n",
       "    <tr>\n",
       "      <th>0</th>\n",
       "      <td>Sex Male Pclass 2</td>\n",
       "      <td>108</td>\n",
       "      <td>17</td>\n",
       "      <td>91</td>\n",
       "      <td>0.157407</td>\n",
       "    </tr>\n",
       "    <tr>\n",
       "      <th>0</th>\n",
       "      <td>Sex Male Pclass 3</td>\n",
       "      <td>347</td>\n",
       "      <td>47</td>\n",
       "      <td>300</td>\n",
       "      <td>0.135447</td>\n",
       "    </tr>\n",
       "  </tbody>\n",
       "</table>\n",
       "</div>"
      ],
      "text/plain": [
       "                Groups  Total  Survived  Not survived  % survived\n",
       "0  Sex Female Pclass 1     94        91             3    0.968085\n",
       "0  Sex Female Pclass 2     76        70             6    0.921053\n",
       "0  Sex Female Pclass 3    144        72            72    0.500000\n",
       "0    Sex Male Pclass 1    122        45            77    0.368852\n",
       "0    Sex Male Pclass 2    108        17            91    0.157407\n",
       "0    Sex Male Pclass 3    347        47           300    0.135447"
      ]
     },
     "execution_count": 27,
     "metadata": {},
     "output_type": "execute_result"
    }
   ],
   "source": [
    "# Let's move on to analyzing the connection between Pclass, gender and survival rate\n",
    "table_gender_Pclass = pd.concat([table2(df_train,\"Sex\",\"female\",\"Pclass\",1),\n",
    "                    table2(df_train,\"Sex\",\"female\",\"Pclass\",2),table2(df_train,\"Sex\",\"female\",\"Pclass\",3),\n",
    "                    table2(df_train,\"Sex\",\"male\",\"Pclass\",1),table2(df_train,\"Sex\",\"male\",\"Pclass\",2),\n",
    "                    table2(df_train,\"Sex\",\"male\",\"Pclass\",3)])\n",
    "table_gender_Pclass"
   ]
  },
  {
   "cell_type": "markdown",
   "metadata": {},
   "source": [
    "- That's really intresting - Women in the first and second class have a higher survival rate"
   ]
  },
  {
   "cell_type": "markdown",
   "metadata": {},
   "source": [
    "- Let's take a look at whether women with children have a high survival rate"
   ]
  },
  {
   "cell_type": "code",
   "execution_count": 28,
   "metadata": {},
   "outputs": [
    {
     "data": {
      "text/html": [
       "<div>\n",
       "<style scoped>\n",
       "    .dataframe tbody tr th:only-of-type {\n",
       "        vertical-align: middle;\n",
       "    }\n",
       "\n",
       "    .dataframe tbody tr th {\n",
       "        vertical-align: top;\n",
       "    }\n",
       "\n",
       "    .dataframe thead th {\n",
       "        text-align: right;\n",
       "    }\n",
       "</style>\n",
       "<table border=\"1\" class=\"dataframe\">\n",
       "  <thead>\n",
       "    <tr style=\"text-align: right;\">\n",
       "      <th></th>\n",
       "      <th>Groups</th>\n",
       "      <th>Total</th>\n",
       "      <th>Survived</th>\n",
       "      <th>Not survived</th>\n",
       "      <th>% survived</th>\n",
       "    </tr>\n",
       "  </thead>\n",
       "  <tbody>\n",
       "    <tr>\n",
       "      <th>0</th>\n",
       "      <td>Sex Female Parch 0</td>\n",
       "      <td>194</td>\n",
       "      <td>153</td>\n",
       "      <td>41</td>\n",
       "      <td>0.788660</td>\n",
       "    </tr>\n",
       "    <tr>\n",
       "      <th>0</th>\n",
       "      <td>Sex Female Parch 1</td>\n",
       "      <td>60</td>\n",
       "      <td>46</td>\n",
       "      <td>14</td>\n",
       "      <td>0.766667</td>\n",
       "    </tr>\n",
       "    <tr>\n",
       "      <th>0</th>\n",
       "      <td>Sex Female Parch 2</td>\n",
       "      <td>49</td>\n",
       "      <td>30</td>\n",
       "      <td>19</td>\n",
       "      <td>0.612245</td>\n",
       "    </tr>\n",
       "    <tr>\n",
       "      <th>0</th>\n",
       "      <td>Sex Male Parch 0</td>\n",
       "      <td>484</td>\n",
       "      <td>80</td>\n",
       "      <td>404</td>\n",
       "      <td>0.165289</td>\n",
       "    </tr>\n",
       "    <tr>\n",
       "      <th>0</th>\n",
       "      <td>Sex Male Parch 1</td>\n",
       "      <td>58</td>\n",
       "      <td>19</td>\n",
       "      <td>39</td>\n",
       "      <td>0.327586</td>\n",
       "    </tr>\n",
       "    <tr>\n",
       "      <th>0</th>\n",
       "      <td>Sex Male Parch 2</td>\n",
       "      <td>31</td>\n",
       "      <td>10</td>\n",
       "      <td>21</td>\n",
       "      <td>0.322581</td>\n",
       "    </tr>\n",
       "  </tbody>\n",
       "</table>\n",
       "</div>"
      ],
      "text/plain": [
       "               Groups  Total  Survived  Not survived  % survived\n",
       "0  Sex Female Parch 0    194       153            41    0.788660\n",
       "0  Sex Female Parch 1     60        46            14    0.766667\n",
       "0  Sex Female Parch 2     49        30            19    0.612245\n",
       "0    Sex Male Parch 0    484        80           404    0.165289\n",
       "0    Sex Male Parch 1     58        19            39    0.327586\n",
       "0    Sex Male Parch 2     31        10            21    0.322581"
      ]
     },
     "execution_count": 28,
     "metadata": {},
     "output_type": "execute_result"
    }
   ],
   "source": [
    "gender_kids = pd.concat([table2(df_train,\"Sex\",\"female\",\"Parch\",0),table2(df_train,\"Sex\",\"female\",\"Parch\",1),\n",
    "                         table2(df_train,\"Sex\",\"female\",\"Parch\",2),table2(df_train,\"Sex\",\"male\",\"Parch\",0),\n",
    "                        table2(df_train,\"Sex\",\"male\",\"Parch\",1),table2(df_train,\"Sex\",\"male\",\"Parch\",2)])\n",
    "gender_kids"
   ]
  },
  {
   "cell_type": "markdown",
   "metadata": {},
   "source": [
    "- It seems that single women, or with one chid, have a higher survival rate."
   ]
  },
  {
   "cell_type": "markdown",
   "metadata": {},
   "source": [
    "# MISSING VALUES"
   ]
  },
  {
   "cell_type": "markdown",
   "metadata": {},
   "source": [
    "We have different options to fill missing values.\n",
    "We could create a few functions and see different options. You can choose what you think is the best for you."
   ]
  },
  {
   "cell_type": "code",
   "execution_count": 29,
   "metadata": {},
   "outputs": [],
   "source": [
    "# Creating a function to show the missing data\n",
    "def missing_data(df):\n",
    "    \"\"\"a function that returns to the percentage of missing data\"\"\"\n",
    "    total = df.isnull().sum().sort_values(ascending=False)\n",
    "    percent_1 = df.isnull().sum()/df.isnull().count()*100\n",
    "    percent_2 = (round(percent_1, 1)).sort_values(ascending=False)\n",
    "    df_missing_data = pd.concat([total, percent_2], axis=1, keys=[\"Total\", \"%\"])\n",
    "    return df_missing_data"
   ]
  },
  {
   "cell_type": "code",
   "execution_count": 30,
   "metadata": {},
   "outputs": [
    {
     "data": {
      "text/html": [
       "<div>\n",
       "<style scoped>\n",
       "    .dataframe tbody tr th:only-of-type {\n",
       "        vertical-align: middle;\n",
       "    }\n",
       "\n",
       "    .dataframe tbody tr th {\n",
       "        vertical-align: top;\n",
       "    }\n",
       "\n",
       "    .dataframe thead th {\n",
       "        text-align: right;\n",
       "    }\n",
       "</style>\n",
       "<table border=\"1\" class=\"dataframe\">\n",
       "  <thead>\n",
       "    <tr style=\"text-align: right;\">\n",
       "      <th></th>\n",
       "      <th>Total</th>\n",
       "      <th>%</th>\n",
       "    </tr>\n",
       "  </thead>\n",
       "  <tbody>\n",
       "    <tr>\n",
       "      <th>Age</th>\n",
       "      <td>177</td>\n",
       "      <td>19.9</td>\n",
       "    </tr>\n",
       "    <tr>\n",
       "      <th>Embarked</th>\n",
       "      <td>2</td>\n",
       "      <td>0.2</td>\n",
       "    </tr>\n",
       "    <tr>\n",
       "      <th>Title</th>\n",
       "      <td>0</td>\n",
       "      <td>0.0</td>\n",
       "    </tr>\n",
       "    <tr>\n",
       "      <th>Cabin</th>\n",
       "      <td>0</td>\n",
       "      <td>0.0</td>\n",
       "    </tr>\n",
       "    <tr>\n",
       "      <th>Fare</th>\n",
       "      <td>0</td>\n",
       "      <td>0.0</td>\n",
       "    </tr>\n",
       "    <tr>\n",
       "      <th>Ticket</th>\n",
       "      <td>0</td>\n",
       "      <td>0.0</td>\n",
       "    </tr>\n",
       "    <tr>\n",
       "      <th>Parch</th>\n",
       "      <td>0</td>\n",
       "      <td>0.0</td>\n",
       "    </tr>\n",
       "    <tr>\n",
       "      <th>SibSp</th>\n",
       "      <td>0</td>\n",
       "      <td>0.0</td>\n",
       "    </tr>\n",
       "    <tr>\n",
       "      <th>Sex</th>\n",
       "      <td>0</td>\n",
       "      <td>0.0</td>\n",
       "    </tr>\n",
       "    <tr>\n",
       "      <th>Name</th>\n",
       "      <td>0</td>\n",
       "      <td>0.0</td>\n",
       "    </tr>\n",
       "    <tr>\n",
       "      <th>Pclass</th>\n",
       "      <td>0</td>\n",
       "      <td>0.0</td>\n",
       "    </tr>\n",
       "    <tr>\n",
       "      <th>Survived</th>\n",
       "      <td>0</td>\n",
       "      <td>0.0</td>\n",
       "    </tr>\n",
       "    <tr>\n",
       "      <th>PassengerId</th>\n",
       "      <td>0</td>\n",
       "      <td>0.0</td>\n",
       "    </tr>\n",
       "  </tbody>\n",
       "</table>\n",
       "</div>"
      ],
      "text/plain": [
       "             Total     %\n",
       "Age            177  19.9\n",
       "Embarked         2   0.2\n",
       "Title            0   0.0\n",
       "Cabin            0   0.0\n",
       "Fare             0   0.0\n",
       "Ticket           0   0.0\n",
       "Parch            0   0.0\n",
       "SibSp            0   0.0\n",
       "Sex              0   0.0\n",
       "Name             0   0.0\n",
       "Pclass           0   0.0\n",
       "Survived         0   0.0\n",
       "PassengerId      0   0.0"
      ]
     },
     "execution_count": 30,
     "metadata": {},
     "output_type": "execute_result"
    }
   ],
   "source": [
    "missing_data(df_train)"
   ]
  },
  {
   "cell_type": "code",
   "execution_count": 31,
   "metadata": {},
   "outputs": [],
   "source": [
    "# Creating a function to compute and store the mean and the standar deviation of the not null values\n",
    "def mean_std(df,category):\n",
    "    \"\"\"defining a function that stores the mean and the standard deviation of the dataset\"\"\"\n",
    "    mean = df[category].mean()\n",
    "    std = df[category].std()\n",
    "    return mean , std"
   ]
  },
  {
   "cell_type": "code",
   "execution_count": 32,
   "metadata": {},
   "outputs": [],
   "source": [
    "# Storing the mean and standard deviation\n",
    "mean_std = mean_std(df_train,\"Age\")"
   ]
  },
  {
   "cell_type": "code",
   "execution_count": 33,
   "metadata": {},
   "outputs": [],
   "source": [
    "def fill_null_values(df,category,mean_std):\n",
    "    \"\"\"function that fill null values creating an array that contains random numbers, \n",
    "    which are computed based on the mean age value, standard deviation and null values.\"\"\"\n",
    "    mean = mean_std[0]\n",
    "    std = mean_std[1]\n",
    "    is_null = df[category].isnull().sum()\n",
    "    # Compute random numbers between the mean, std and is_null\n",
    "    # np.random.seed(42)   ------- To get always the same results\n",
    "    rand_cat = np.random.randint(mean - std, mean + std, size = is_null)\n",
    "    # Fill NaN values in category column with random values generated\n",
    "    df_slice = df[category].copy()\n",
    "    df_slice[np.isnan(df_slice)] = rand_cat     # If it's not working, try: df_slice[df_slice.isnull()] = rand_cat\n",
    "    df[category] = df_slice\n",
    "    df[category] = df[category].astype(int)\n",
    "    "
   ]
  },
  {
   "cell_type": "code",
   "execution_count": 34,
   "metadata": {},
   "outputs": [],
   "source": [
    "# Filling null values\n",
    "fill_null_values(df_train,\"Age\",mean_std)\n",
    "fill_null_values(df_test,\"Age\",mean_std)"
   ]
  },
  {
   "cell_type": "code",
   "execution_count": 35,
   "metadata": {},
   "outputs": [],
   "source": [
    "# Function to fill categorical null values\n",
    "def fill_str_randomly(df,category):\n",
    "    \"\"\"function that fills null values, creating an array that contains all of the values in the data set, \n",
    "    and extract them randomly one by one\"\"\"\n",
    "    category_list = [x for x in df[category].dropna()] # dropna is used to drop null values\n",
    "    rand_cat = np.random.choice(category_list)\n",
    "    # fill NaN values in category column with random values generated based on their probability\n",
    "    df_slice = df[category].copy()\n",
    "    df_slice[df_slice.isnull()] = rand_cat\n",
    "    df[category] = df_slice\n",
    "    df[category] = df[category].astype(str)"
   ]
  },
  {
   "cell_type": "code",
   "execution_count": 36,
   "metadata": {},
   "outputs": [],
   "source": [
    "# Function to fill numbers null values\n",
    "def fill_int_randomly(df,category):\n",
    "    \"\"\"function that fills null values, creating an array that contains all of the values in the data set, \n",
    "    and extract them randomly one by one\"\"\"\n",
    "    category_list = [x for x in df[category].dropna()] # dropna is used to drop null values\n",
    "    rand_cat = np.random.choice(category_list)\n",
    "    # fill NaN values in category column with random values generated based on their probability\n",
    "    df_slice = df[category].copy()\n",
    "    df_slice[df_slice.isnull()] = rand_cat\n",
    "    df[category] = df_slice\n",
    "    df[category] = df[category].astype(int)"
   ]
  },
  {
   "cell_type": "code",
   "execution_count": 37,
   "metadata": {},
   "outputs": [],
   "source": [
    "for x in data:\n",
    "     fill_str_randomly(x,\"Embarked\")\n",
    "for x in data:\n",
    "     fill_int_randomly(x,\"Fare\")"
   ]
  },
  {
   "cell_type": "markdown",
   "metadata": {},
   "source": [
    "# EXPERIMENTS WITH ATTRIBUTE COMBINATION"
   ]
  },
  {
   "cell_type": "code",
   "execution_count": 38,
   "metadata": {},
   "outputs": [],
   "source": [
    "# Let's create a data backup - If we make mistakes, we don't need to run all of the code from the beginning\n",
    "df_train_backup = df_train.copy()\n",
    "df_test_backup = df_test.copy()"
   ]
  },
  {
   "cell_type": "code",
   "execution_count": 39,
   "metadata": {},
   "outputs": [],
   "source": [
    "# Category combination function\n",
    "def cat_comb(df,cat1,value1,cat2,value2):\n",
    "    \"\"\"function that returns to a new category with boolean values - 1 if the assumption has been satisfied, \n",
    "    0 if not\"\"\"\n",
    "    assumption = (df[cat1] == value1) & (df[cat2] == value2)\n",
    "    return np.where(assumption,1,0)"
   ]
  },
  {
   "cell_type": "code",
   "execution_count": 40,
   "metadata": {},
   "outputs": [],
   "source": [
    "# Create a new attribute Sex_Pclass\n",
    "for df in data:\n",
    "    df[\"Female_Pclass1\"] = cat_comb(df,\"Sex\",\"female\",\"Pclass\",1)\n",
    "    df[\"Female_Pclass2\"] = cat_comb(df,\"Sex\",\"female\",\"Pclass\",2)\n",
    "    df[\"Female_Pclass3\"] = cat_comb(df,\"Sex\",\"female\",\"Pclass\",3)\n",
    "    df[\"male_Pclass1\"] = cat_comb(df,\"Sex\",\"male\",\"Pclass\",1)\n",
    "    df[\"male_Pclass2\"] = cat_comb(df,\"Sex\",\"male\",\"Pclass\",2)\n",
    "    df[\"male_Pclass3\"] = cat_comb(df,\"Sex\",\"male\",\"Pclass\",3)"
   ]
  },
  {
   "cell_type": "code",
   "execution_count": 41,
   "metadata": {},
   "outputs": [],
   "source": [
    "# Creating Family attribute\n",
    "for df in data:\n",
    "    df[\"Family\"] = df[\"Parch\"] + df[\"SibSp\"]"
   ]
  },
  {
   "cell_type": "code",
   "execution_count": 42,
   "metadata": {},
   "outputs": [],
   "source": [
    "# Creating Alone attribute - Where Alone = 0 means passenger is not alone, Alone = 1 means passenger is alone\n",
    "for df in data:\n",
    "    df.loc[df[\"Family\"] > 0, \"Alone\"] = 0\n",
    "    df.loc[df[\"Family\"] == 0, \"Alone\"] = 1\n",
    "    df[\"Alone\"] = df[\"Alone\"].astype(int)"
   ]
  },
  {
   "cell_type": "code",
   "execution_count": 43,
   "metadata": {},
   "outputs": [],
   "source": [
    "# Grouping Age in 7 different categories\n",
    "for df in data:\n",
    "    df[\"Age\"] = df[\"Age\"].astype(int)\n",
    "    df.loc[ df[\"Age\"] <= 11, \"Age\"] = 0\n",
    "    df.loc[(df[\"Age\"] > 11) & (df[\"Age\"] <= 18), \"Age\"] = 1\n",
    "    df.loc[(df[\"Age\"] > 18) & (df[\"Age\"] <= 22), \"Age\"] = 2\n",
    "    df.loc[(df[\"Age\"] > 22) & (df[\"Age\"] <= 27), \"Age\"] = 3\n",
    "    df.loc[(df[\"Age\"] > 27) & (df[\"Age\"] <= 32), \"Age\"] = 4\n",
    "    df.loc[(df[\"Age\"] > 32) & (df[\"Age\"] <= 40), \"Age\"] = 5\n",
    "    df.loc[(df[\"Age\"] > 40) & (df[\"Age\"] <= 50), \"Age\"] = 6\n",
    "    df.loc[ df[\"Age\"] > 50, \"Age\"] = 7\n"
   ]
  },
  {
   "cell_type": "code",
   "execution_count": 44,
   "metadata": {},
   "outputs": [
    {
     "data": {
      "text/plain": [
       "5    169\n",
       "4    145\n",
       "3    134\n",
       "2    126\n",
       "6    100\n",
       "1     85\n",
       "0     68\n",
       "7     64\n",
       "Name: Age, dtype: int64"
      ]
     },
     "execution_count": 44,
     "metadata": {},
     "output_type": "execute_result"
    }
   ],
   "source": [
    "# Checking if Age category values are well distributed\n",
    "df_train[\"Age\"].value_counts()"
   ]
  },
  {
   "cell_type": "code",
   "execution_count": 45,
   "metadata": {},
   "outputs": [],
   "source": [
    "# Creating a new attribute called Fare_per_person\n",
    "for df in data:\n",
    "    df[\"Fare_Per_Person\"] = df[\"Fare\"]/(df[\"Family\"]+1)\n",
    "    df[\"Fare_Per_Person\"] = df[\"Fare_Per_Person\"].astype(int)"
   ]
  },
  {
   "cell_type": "code",
   "execution_count": 46,
   "metadata": {},
   "outputs": [],
   "source": [
    "# Grouping Fare_per_person in 5 different categories based on Fare prices.\n",
    "for df in data:\n",
    "    df.loc[ df[\"Fare_Per_Person\"] <= 7.91, \"Fare_Per_Person\"] = 0\n",
    "    df.loc[(df[\"Fare_Per_Person\"] > 7.91) & (df[\"Fare_Per_Person\"] <= 14.454), \"Fare_Per_Person\"] = 1\n",
    "    df.loc[(df[\"Fare_Per_Person\"] > 14.454) & (df[\"Fare_Per_Person\"] <= 31), \"Fare_Per_Person\"]   = 2\n",
    "    df.loc[(df[\"Fare_Per_Person\"] > 31) & (df[\"Fare_Per_Person\"] <= 99), \"Fare_Per_Person\"]   = 3\n",
    "    df.loc[ df[\"Fare_Per_Person\"] > 99, \"Fare_Per_Person\"] = 4\n",
    "    df[\"Fare_Per_Person\"] = df[\"Fare_Per_Person\"].astype(int)"
   ]
  },
  {
   "cell_type": "code",
   "execution_count": 47,
   "metadata": {},
   "outputs": [
    {
     "data": {
      "text/plain": [
       "0    387\n",
       "1    255\n",
       "2    127\n",
       "3    100\n",
       "4     22\n",
       "Name: Fare_Per_Person, dtype: int64"
      ]
     },
     "execution_count": 47,
     "metadata": {},
     "output_type": "execute_result"
    }
   ],
   "source": [
    "df_train[\"Fare_Per_Person\"].value_counts()"
   ]
  },
  {
   "cell_type": "markdown",
   "metadata": {},
   "source": [
    "# DATA CLEANING"
   ]
  },
  {
   "cell_type": "code",
   "execution_count": 48,
   "metadata": {},
   "outputs": [],
   "source": [
    "# Storing PassengerId df_test because it's needed to upload the results online\n",
    "column_passengers = df_test[\"PassengerId\"] \n",
    "\n",
    "df_train = df_train.drop([\"Name\"], axis=1)\n",
    "df_train = df_train.drop([\"PassengerId\"], axis=1)\n",
    "df_train = df_train.drop([\"Ticket\"], axis=1)  # Ticket attribute has 681 unique tickets, \n",
    "                                              # it was useless to convert its values into a useful category.\n",
    "df_train = df_train.drop([\"Fare\"], axis=1)\n",
    "\n",
    "\n",
    "df_test = df_test.drop([\"Name\"], axis=1)\n",
    "df_test = df_test.drop([\"PassengerId\"], axis=1)\n",
    "df_test = df_test.drop([\"Ticket\"], axis=1)\n",
    "df_test = df_test.drop([\"Fare\"], axis=1)\n"
   ]
  },
  {
   "cell_type": "markdown",
   "metadata": {},
   "source": [
    "# CONVERTING FEATURES"
   ]
  },
  {
   "cell_type": "markdown",
   "metadata": {},
   "source": [
    "As we discussed, ML models require all input and output variables to be numeric. This means that if your data contains categorical data, you must encode it to numbers before you can fit and evaluate a model."
   ]
  },
  {
   "cell_type": "markdown",
   "metadata": {},
   "source": [
    "One issue with this representation is that ML algorithms will assume that two nearby values are more similar \n",
    "than two distant values. To fix this issue, a common solution is to create one binary attribute per category.\n",
    "The new attributes are called dummies attributes. Scikit-Learn provides a OneHotEncoder class to convert \n",
    "categorical values into one-hot vectors. Here we are going that returns to dummies attributies. "
   ]
  },
  {
   "cell_type": "code",
   "execution_count": 49,
   "metadata": {},
   "outputs": [],
   "source": [
    "def dummies(df):\n",
    "    \"\"\"a function that returns to dummies attributes\"\"\"\n",
    "    encode_col_list = list(df.select_dtypes(include=[\"object\"]).columns)\n",
    "    for i in encode_col_list:\n",
    "        df = pd.concat([df,pd.get_dummies(df[i], prefix=i)],axis=1)\n",
    "        df.drop(i, axis = 1, inplace=True)\n",
    "    return df"
   ]
  },
  {
   "cell_type": "code",
   "execution_count": 50,
   "metadata": {},
   "outputs": [],
   "source": [
    "df_train = dummies(df_train)\n",
    "df_test = dummies(df_test)"
   ]
  },
  {
   "cell_type": "code",
   "execution_count": 51,
   "metadata": {},
   "outputs": [
    {
     "data": {
      "text/html": [
       "<div>\n",
       "<style scoped>\n",
       "    .dataframe tbody tr th:only-of-type {\n",
       "        vertical-align: middle;\n",
       "    }\n",
       "\n",
       "    .dataframe tbody tr th {\n",
       "        vertical-align: top;\n",
       "    }\n",
       "\n",
       "    .dataframe thead th {\n",
       "        text-align: right;\n",
       "    }\n",
       "</style>\n",
       "<table border=\"1\" class=\"dataframe\">\n",
       "  <thead>\n",
       "    <tr style=\"text-align: right;\">\n",
       "      <th></th>\n",
       "      <th>Survived</th>\n",
       "      <th>Pclass</th>\n",
       "      <th>Age</th>\n",
       "      <th>SibSp</th>\n",
       "      <th>Parch</th>\n",
       "      <th>Cabin</th>\n",
       "      <th>Title</th>\n",
       "      <th>Female_Pclass1</th>\n",
       "      <th>Female_Pclass2</th>\n",
       "      <th>Female_Pclass3</th>\n",
       "      <th>...</th>\n",
       "      <th>male_Pclass2</th>\n",
       "      <th>male_Pclass3</th>\n",
       "      <th>Family</th>\n",
       "      <th>Alone</th>\n",
       "      <th>Fare_Per_Person</th>\n",
       "      <th>Sex_female</th>\n",
       "      <th>Sex_male</th>\n",
       "      <th>Embarked_C</th>\n",
       "      <th>Embarked_Q</th>\n",
       "      <th>Embarked_S</th>\n",
       "    </tr>\n",
       "  </thead>\n",
       "  <tbody>\n",
       "    <tr>\n",
       "      <th>0</th>\n",
       "      <td>0</td>\n",
       "      <td>3</td>\n",
       "      <td>2</td>\n",
       "      <td>1</td>\n",
       "      <td>0</td>\n",
       "      <td>0</td>\n",
       "      <td>1</td>\n",
       "      <td>0</td>\n",
       "      <td>0</td>\n",
       "      <td>0</td>\n",
       "      <td>...</td>\n",
       "      <td>0</td>\n",
       "      <td>1</td>\n",
       "      <td>1</td>\n",
       "      <td>0</td>\n",
       "      <td>0</td>\n",
       "      <td>0</td>\n",
       "      <td>1</td>\n",
       "      <td>0</td>\n",
       "      <td>0</td>\n",
       "      <td>1</td>\n",
       "    </tr>\n",
       "    <tr>\n",
       "      <th>1</th>\n",
       "      <td>1</td>\n",
       "      <td>1</td>\n",
       "      <td>5</td>\n",
       "      <td>1</td>\n",
       "      <td>0</td>\n",
       "      <td>1</td>\n",
       "      <td>3</td>\n",
       "      <td>1</td>\n",
       "      <td>0</td>\n",
       "      <td>0</td>\n",
       "      <td>...</td>\n",
       "      <td>0</td>\n",
       "      <td>0</td>\n",
       "      <td>1</td>\n",
       "      <td>0</td>\n",
       "      <td>3</td>\n",
       "      <td>1</td>\n",
       "      <td>0</td>\n",
       "      <td>1</td>\n",
       "      <td>0</td>\n",
       "      <td>0</td>\n",
       "    </tr>\n",
       "    <tr>\n",
       "      <th>2</th>\n",
       "      <td>1</td>\n",
       "      <td>3</td>\n",
       "      <td>3</td>\n",
       "      <td>0</td>\n",
       "      <td>0</td>\n",
       "      <td>0</td>\n",
       "      <td>2</td>\n",
       "      <td>0</td>\n",
       "      <td>0</td>\n",
       "      <td>1</td>\n",
       "      <td>...</td>\n",
       "      <td>0</td>\n",
       "      <td>0</td>\n",
       "      <td>0</td>\n",
       "      <td>1</td>\n",
       "      <td>0</td>\n",
       "      <td>1</td>\n",
       "      <td>0</td>\n",
       "      <td>0</td>\n",
       "      <td>0</td>\n",
       "      <td>1</td>\n",
       "    </tr>\n",
       "    <tr>\n",
       "      <th>3</th>\n",
       "      <td>1</td>\n",
       "      <td>1</td>\n",
       "      <td>5</td>\n",
       "      <td>1</td>\n",
       "      <td>0</td>\n",
       "      <td>1</td>\n",
       "      <td>3</td>\n",
       "      <td>1</td>\n",
       "      <td>0</td>\n",
       "      <td>0</td>\n",
       "      <td>...</td>\n",
       "      <td>0</td>\n",
       "      <td>0</td>\n",
       "      <td>1</td>\n",
       "      <td>0</td>\n",
       "      <td>2</td>\n",
       "      <td>1</td>\n",
       "      <td>0</td>\n",
       "      <td>0</td>\n",
       "      <td>0</td>\n",
       "      <td>1</td>\n",
       "    </tr>\n",
       "    <tr>\n",
       "      <th>4</th>\n",
       "      <td>0</td>\n",
       "      <td>3</td>\n",
       "      <td>5</td>\n",
       "      <td>0</td>\n",
       "      <td>0</td>\n",
       "      <td>0</td>\n",
       "      <td>1</td>\n",
       "      <td>0</td>\n",
       "      <td>0</td>\n",
       "      <td>0</td>\n",
       "      <td>...</td>\n",
       "      <td>0</td>\n",
       "      <td>1</td>\n",
       "      <td>0</td>\n",
       "      <td>1</td>\n",
       "      <td>1</td>\n",
       "      <td>0</td>\n",
       "      <td>1</td>\n",
       "      <td>0</td>\n",
       "      <td>0</td>\n",
       "      <td>1</td>\n",
       "    </tr>\n",
       "  </tbody>\n",
       "</table>\n",
       "<p>5 rows × 21 columns</p>\n",
       "</div>"
      ],
      "text/plain": [
       "   Survived  Pclass  Age  SibSp  Parch  Cabin  Title  Female_Pclass1  \\\n",
       "0         0       3    2      1      0      0      1               0   \n",
       "1         1       1    5      1      0      1      3               1   \n",
       "2         1       3    3      0      0      0      2               0   \n",
       "3         1       1    5      1      0      1      3               1   \n",
       "4         0       3    5      0      0      0      1               0   \n",
       "\n",
       "   Female_Pclass2  Female_Pclass3  ...  male_Pclass2  male_Pclass3  Family  \\\n",
       "0               0               0  ...             0             1       1   \n",
       "1               0               0  ...             0             0       1   \n",
       "2               0               1  ...             0             0       0   \n",
       "3               0               0  ...             0             0       1   \n",
       "4               0               0  ...             0             1       0   \n",
       "\n",
       "   Alone  Fare_Per_Person  Sex_female  Sex_male  Embarked_C  Embarked_Q  \\\n",
       "0      0                0           0         1           0           0   \n",
       "1      0                3           1         0           1           0   \n",
       "2      1                0           1         0           0           0   \n",
       "3      0                2           1         0           0           0   \n",
       "4      1                1           0         1           0           0   \n",
       "\n",
       "   Embarked_S  \n",
       "0           1  \n",
       "1           0  \n",
       "2           1  \n",
       "3           1  \n",
       "4           1  \n",
       "\n",
       "[5 rows x 21 columns]"
      ]
     },
     "execution_count": 51,
     "metadata": {},
     "output_type": "execute_result"
    }
   ],
   "source": [
    "# Showing how the data has been transformed\n",
    "df_train.head()"
   ]
  },
  {
   "cell_type": "markdown",
   "metadata": {},
   "source": [
    "# SELECTING THE MODELS"
   ]
  },
  {
   "cell_type": "markdown",
   "metadata": {},
   "source": [
    "- There is no Survived label on the testing set - we have to use the predictions in the train \n",
    "  set to compare the algorithms with each other "
   ]
  },
  {
   "cell_type": "code",
   "execution_count": 52,
   "metadata": {},
   "outputs": [],
   "source": [
    "# Preparing the data\n",
    "X_train = df_train.drop(\"Survived\", axis=1)\n",
    "Y_train = df_train[\"Survived\"]\n",
    "\n",
    "X_test  = df_test"
   ]
  },
  {
   "cell_type": "markdown",
   "metadata": {},
   "source": [
    "- We are going to choose 4 different algorithms:\n",
    "    1. K Nearest Neighbor\n",
    "    2. Random Forest\n",
    "    3. Logistic Regression\n",
    "    4. Decision Tree"
   ]
  },
  {
   "cell_type": "code",
   "execution_count": 53,
   "metadata": {},
   "outputs": [
    {
     "data": {
      "text/plain": [
       "87.09"
      ]
     },
     "execution_count": 53,
     "metadata": {},
     "output_type": "execute_result"
    }
   ],
   "source": [
    "# K Nearest Neighbor:\n",
    "knn = KNeighborsClassifier(n_neighbors = 3) \n",
    "knn.fit(X_train, Y_train)  \n",
    "Y_pred = knn.predict(X_test)  \n",
    "accuracy_knn = round(knn.score(X_train, Y_train) * 100, 2)\n",
    "accuracy_knn"
   ]
  },
  {
   "cell_type": "code",
   "execution_count": 54,
   "metadata": {},
   "outputs": [
    {
     "data": {
      "text/plain": [
       "92.37"
      ]
     },
     "execution_count": 54,
     "metadata": {},
     "output_type": "execute_result"
    }
   ],
   "source": [
    "# Random Forest:\n",
    "random_forest = RandomForestClassifier(n_estimators=100)\n",
    "random_forest.fit(X_train, Y_train)\n",
    "\n",
    "Y_prediction = random_forest.predict(X_test)\n",
    "\n",
    "random_forest.score(X_train, Y_train)\n",
    "accuracy_random_forest = round(random_forest.score(X_train, Y_train) * 100, 2)\n",
    "accuracy_random_forest"
   ]
  },
  {
   "cell_type": "code",
   "execution_count": 55,
   "metadata": {},
   "outputs": [
    {
     "data": {
      "text/plain": [
       "82.49"
      ]
     },
     "execution_count": 55,
     "metadata": {},
     "output_type": "execute_result"
    }
   ],
   "source": [
    "# Logistic Regression:\n",
    "logreg = LogisticRegression()\n",
    "logreg.fit(X_train, Y_train)\n",
    "\n",
    "Y_pred = logreg.predict(X_test)\n",
    "\n",
    "accuracy_log = round(logreg.score(X_train, Y_train) * 100, 2)\n",
    "accuracy_log"
   ]
  },
  {
   "cell_type": "code",
   "execution_count": 56,
   "metadata": {},
   "outputs": [
    {
     "data": {
      "text/plain": [
       "92.37"
      ]
     },
     "execution_count": 56,
     "metadata": {},
     "output_type": "execute_result"
    }
   ],
   "source": [
    "# Decision Tree:\n",
    "decision_tree = DecisionTreeClassifier() \n",
    "decision_tree.fit(X_train, Y_train)  \n",
    "Y_pred = decision_tree.predict(X_test)  \n",
    "accuracy_decision_tree = round(decision_tree.score(X_train, Y_train) * 100, 2)\n",
    "accuracy_decision_tree"
   ]
  },
  {
   "cell_type": "code",
   "execution_count": 57,
   "metadata": {},
   "outputs": [
    {
     "data": {
      "text/html": [
       "<div>\n",
       "<style scoped>\n",
       "    .dataframe tbody tr th:only-of-type {\n",
       "        vertical-align: middle;\n",
       "    }\n",
       "\n",
       "    .dataframe tbody tr th {\n",
       "        vertical-align: top;\n",
       "    }\n",
       "\n",
       "    .dataframe thead th {\n",
       "        text-align: right;\n",
       "    }\n",
       "</style>\n",
       "<table border=\"1\" class=\"dataframe\">\n",
       "  <thead>\n",
       "    <tr style=\"text-align: right;\">\n",
       "      <th></th>\n",
       "      <th>Model</th>\n",
       "    </tr>\n",
       "    <tr>\n",
       "      <th>Score</th>\n",
       "      <th></th>\n",
       "    </tr>\n",
       "  </thead>\n",
       "  <tbody>\n",
       "    <tr>\n",
       "      <th>92.37</th>\n",
       "      <td>Random Forest</td>\n",
       "    </tr>\n",
       "    <tr>\n",
       "      <th>92.37</th>\n",
       "      <td>Decision Tree</td>\n",
       "    </tr>\n",
       "    <tr>\n",
       "      <th>87.09</th>\n",
       "      <td>KNN</td>\n",
       "    </tr>\n",
       "    <tr>\n",
       "      <th>82.49</th>\n",
       "      <td>Logistic Regression</td>\n",
       "    </tr>\n",
       "  </tbody>\n",
       "</table>\n",
       "</div>"
      ],
      "text/plain": [
       "                     Model\n",
       "Score                     \n",
       "92.37        Random Forest\n",
       "92.37        Decision Tree\n",
       "87.09                  KNN\n",
       "82.49  Logistic Regression"
      ]
     },
     "execution_count": 57,
     "metadata": {},
     "output_type": "execute_result"
    }
   ],
   "source": [
    "# Best model table\n",
    "results = pd.DataFrame({\n",
    "    \"Score\": [ accuracy_knn, accuracy_log, \n",
    "              accuracy_random_forest,  \n",
    "               accuracy_decision_tree],\n",
    "    \"Model\": [ \"KNN\", \"Logistic Regression\", \n",
    "              \"Random Forest\",\n",
    "              \"Decision Tree\"]})\n",
    "result_table = results.sort_values(by=\"Score\", ascending=False)\n",
    "result_table  = result_table.set_index(\"Score\")\n",
    "result_table "
   ]
  },
  {
   "cell_type": "markdown",
   "metadata": {},
   "source": [
    "- Random Forest classifier and decision tree go in the first place. Is this the real score?"
   ]
  },
  {
   "cell_type": "code",
   "execution_count": 58,
   "metadata": {},
   "outputs": [
    {
     "name": "stdout",
     "output_type": "stream",
     "text": [
      "Scores: [0.78888889 0.80898876 0.73033708 0.80898876 0.84269663 0.80898876\n",
      " 0.85393258 0.7752809  0.86516854 0.85393258]\n",
      "Mean: 0.8137203495630463\n",
      "Standard Deviation: 0.03979285744097151\n"
     ]
    }
   ],
   "source": [
    "# Let's start with a cross validation that gives us an idea of the model accuracy\n",
    "rf = RandomForestClassifier(n_estimators=100)\n",
    "scores = cross_val_score(rf, X_train, Y_train, cv=10, scoring = \"accuracy\")\n",
    "print(\"Scores:\", scores)\n",
    "print(\"Mean:\", scores.mean())\n",
    "print(\"Standard Deviation:\", scores.std())"
   ]
  },
  {
   "cell_type": "markdown",
   "metadata": {},
   "source": [
    "- Our model has an accuracy of 81% with a standard deviation of 4%. The standard deviation means that\n",
    "  our model can differ in average about + — 4%.\n",
    "  I prefer to say that our model accuracy is between 73% to 86%.\n",
    "  It looks like the model is overfitting the data.\n",
    "  We should reduce the size of the random forest model by removing the less important features (pruning the model)."
   ]
  },
  {
   "cell_type": "code",
   "execution_count": 59,
   "metadata": {},
   "outputs": [
    {
     "data": {
      "text/html": [
       "<div>\n",
       "<style scoped>\n",
       "    .dataframe tbody tr th:only-of-type {\n",
       "        vertical-align: middle;\n",
       "    }\n",
       "\n",
       "    .dataframe tbody tr th {\n",
       "        vertical-align: top;\n",
       "    }\n",
       "\n",
       "    .dataframe thead th {\n",
       "        text-align: right;\n",
       "    }\n",
       "</style>\n",
       "<table border=\"1\" class=\"dataframe\">\n",
       "  <thead>\n",
       "    <tr style=\"text-align: right;\">\n",
       "      <th></th>\n",
       "      <th>feature</th>\n",
       "    </tr>\n",
       "    <tr>\n",
       "      <th>importance</th>\n",
       "      <th></th>\n",
       "    </tr>\n",
       "  </thead>\n",
       "  <tbody>\n",
       "    <tr>\n",
       "      <th>0.182</th>\n",
       "      <td>Age</td>\n",
       "    </tr>\n",
       "    <tr>\n",
       "      <th>0.123</th>\n",
       "      <td>Title</td>\n",
       "    </tr>\n",
       "    <tr>\n",
       "      <th>0.092</th>\n",
       "      <td>Sex_female</td>\n",
       "    </tr>\n",
       "    <tr>\n",
       "      <th>0.088</th>\n",
       "      <td>Sex_male</td>\n",
       "    </tr>\n",
       "    <tr>\n",
       "      <th>0.084</th>\n",
       "      <td>Fare_Per_Person</td>\n",
       "    </tr>\n",
       "    <tr>\n",
       "      <th>0.062</th>\n",
       "      <td>Family</td>\n",
       "    </tr>\n",
       "    <tr>\n",
       "      <th>0.055</th>\n",
       "      <td>Female_Pclass1</td>\n",
       "    </tr>\n",
       "    <tr>\n",
       "      <th>0.042</th>\n",
       "      <td>Pclass</td>\n",
       "    </tr>\n",
       "    <tr>\n",
       "      <th>0.041</th>\n",
       "      <td>male_Pclass3</td>\n",
       "    </tr>\n",
       "    <tr>\n",
       "      <th>0.038</th>\n",
       "      <td>SibSp</td>\n",
       "    </tr>\n",
       "    <tr>\n",
       "      <th>0.037</th>\n",
       "      <td>Cabin</td>\n",
       "    </tr>\n",
       "    <tr>\n",
       "      <th>0.029</th>\n",
       "      <td>Female_Pclass2</td>\n",
       "    </tr>\n",
       "    <tr>\n",
       "      <th>0.028</th>\n",
       "      <td>Parch</td>\n",
       "    </tr>\n",
       "    <tr>\n",
       "      <th>0.020</th>\n",
       "      <td>Embarked_S</td>\n",
       "    </tr>\n",
       "    <tr>\n",
       "      <th>0.019</th>\n",
       "      <td>Female_Pclass3</td>\n",
       "    </tr>\n",
       "    <tr>\n",
       "      <th>0.016</th>\n",
       "      <td>Embarked_C</td>\n",
       "    </tr>\n",
       "    <tr>\n",
       "      <th>0.012</th>\n",
       "      <td>male_Pclass2</td>\n",
       "    </tr>\n",
       "    <tr>\n",
       "      <th>0.011</th>\n",
       "      <td>Alone</td>\n",
       "    </tr>\n",
       "    <tr>\n",
       "      <th>0.011</th>\n",
       "      <td>Embarked_Q</td>\n",
       "    </tr>\n",
       "    <tr>\n",
       "      <th>0.009</th>\n",
       "      <td>male_Pclass1</td>\n",
       "    </tr>\n",
       "  </tbody>\n",
       "</table>\n",
       "</div>"
      ],
      "text/plain": [
       "                    feature\n",
       "importance                 \n",
       "0.182                   Age\n",
       "0.123                 Title\n",
       "0.092            Sex_female\n",
       "0.088              Sex_male\n",
       "0.084       Fare_Per_Person\n",
       "0.062                Family\n",
       "0.055        Female_Pclass1\n",
       "0.042                Pclass\n",
       "0.041          male_Pclass3\n",
       "0.038                 SibSp\n",
       "0.037                 Cabin\n",
       "0.029        Female_Pclass2\n",
       "0.028                 Parch\n",
       "0.020            Embarked_S\n",
       "0.019        Female_Pclass3\n",
       "0.016            Embarked_C\n",
       "0.012          male_Pclass2\n",
       "0.011                 Alone\n",
       "0.011            Embarked_Q\n",
       "0.009          male_Pclass1"
      ]
     },
     "execution_count": 59,
     "metadata": {},
     "output_type": "execute_result"
    }
   ],
   "source": [
    "# Let take a look which are the most important features\n",
    "importances = pd.DataFrame({\"feature\":X_train.columns,\"importance\":np.round(random_forest.feature_importances_,3)})\n",
    "importances = importances.sort_values(\"importance\",ascending=False).set_index(\"importance\")\n",
    "importances.head(20)"
   ]
  },
  {
   "cell_type": "code",
   "execution_count": 60,
   "metadata": {},
   "outputs": [],
   "source": [
    "# Creating a final model by deleting all of the unnecessary features in order to prune our selected model and \n",
    "# increase its performance\n",
    "X_train_final = X_train.copy()   # Creating a copy of train data\n",
    "X_test_final  = X_test.copy() # Creating a copy of test data\n",
    "final_data = [X_train_final,X_test_final]\n",
    "\n",
    "for df in final_data:\n",
    "    df = df.drop(\"male_Pclass2\", axis=1)\n",
    "    df = df.drop(\"Embarked_Q\", axis=1)\n",
    "    df = df.drop(\"male_Pclass1\", axis=1)\n",
    "    df = df.drop(\"Alone\", axis=1)\n",
    "    df = df.drop(\"Embarked_C\", axis=1)\n",
    "    df = df.drop(\"Embarked_S\", axis=1)\n"
   ]
  },
  {
   "cell_type": "code",
   "execution_count": 61,
   "metadata": {},
   "outputs": [
    {
     "data": {
      "text/plain": [
       "92.37"
      ]
     },
     "execution_count": 61,
     "metadata": {},
     "output_type": "execute_result"
    }
   ],
   "source": [
    "# Checking the new model accuracy\n",
    "rf = RandomForestClassifier(n_estimators=1000,bootstrap =True)\n",
    "random_forest.fit(X_train_final, Y_train)\n",
    "\n",
    "Y_prediction = random_forest.predict(X_test_final)\n",
    "\n",
    "random_forest.score(X_train_final, Y_train)\n",
    "accuracy_random_forest = round(random_forest.score(X_train_final, Y_train) * 100, 2)\n",
    "accuracy_random_forest"
   ]
  },
  {
   "cell_type": "code",
   "execution_count": 62,
   "metadata": {},
   "outputs": [
    {
     "name": "stdout",
     "output_type": "stream",
     "text": [
      "Scores: [0.77777778 0.82022472 0.73033708 0.79775281 0.85393258 0.83146067\n",
      " 0.84269663 0.78651685 0.85393258 0.84269663]\n",
      "Mean: 0.813732833957553\n",
      "Standard Deviation: 0.038091931490909704\n"
     ]
    }
   ],
   "source": [
    "# Let's check again the scores with a cross validation\n",
    "scores = cross_val_score(rf, X_train_final, Y_train, cv=10, scoring = \"accuracy\")\n",
    "print(\"Scores:\", scores)\n",
    "print(\"Mean:\", scores.mean())\n",
    "print(\"Standard Deviation:\", scores.std())"
   ]
  },
  {
   "cell_type": "markdown",
   "metadata": {},
   "source": [
    "It looks like our final model performs the same than the previous one. We have still margin for\n",
    "improvment. Let's take a look of the performance of our model using confusion matrix."
   ]
  },
  {
   "cell_type": "markdown",
   "metadata": {},
   "source": [
    "The confusion matrix measures the perfomances of the model.\n",
    "A confusion matrix is nothing but a table with two dimensions viz. “Actual” and “Predicted” \n",
    "and furthermore, both the dimensions have “True Positives (TP)”, “True Negatives (TN)”, “False Positives (FP)”, \n",
    "“False Negatives (FN)”."
   ]
  },
  {
   "cell_type": "code",
   "execution_count": 63,
   "metadata": {},
   "outputs": [
    {
     "data": {
      "text/plain": [
       "array([[471,  78],\n",
       "       [ 85, 257]])"
      ]
     },
     "execution_count": 63,
     "metadata": {},
     "output_type": "execute_result"
    }
   ],
   "source": [
    "predictions = cross_val_predict(rf, X_train_final, Y_train, cv=10)\n",
    "confusion_matrix(Y_train, predictions)"
   ]
  },
  {
   "cell_type": "markdown",
   "metadata": {},
   "source": [
    "F1 score is the weighted average of the precision and recall. The best value of F1 would be 1 and worst would be 0.\n",
    "We can calculate F1 score with the help of following formula:\n",
    "𝑭𝟏 = 𝟐 * (𝒑𝒓𝒆𝒄𝒊𝒔𝒊𝒐𝒏 ∗ 𝒓𝒆𝒄𝒂𝒍𝒍) / (𝒑𝒓𝒆𝒄𝒊𝒔𝒊𝒐𝒏 + 𝒓𝒆𝒄𝒂𝒍𝒍)"
   ]
  },
  {
   "cell_type": "code",
   "execution_count": 64,
   "metadata": {},
   "outputs": [
    {
     "data": {
      "text/plain": [
       "0.7592319054652881"
      ]
     },
     "execution_count": 64,
     "metadata": {},
     "output_type": "execute_result"
    }
   ],
   "source": [
    "# F1 score:\n",
    "f1_score(Y_train, predictions)"
   ]
  },
  {
   "cell_type": "markdown",
   "metadata": {},
   "source": [
    "The F1 score favors classifiers that have similar precision and recall. This is not always what you want: \n",
    "in some contexts you mostly care about precision, and in other contexts you really care about recall. \n",
    "We know that most of the people died, and we need to detect how many people survived on the Titanic.\n",
    "It make sense for us to train our classifier with a higher precision. Thus, we should prefer\n",
    "the precision/recall curve over the ROC curve."
   ]
  },
  {
   "cell_type": "code",
   "execution_count": 65,
   "metadata": {},
   "outputs": [
    {
     "data": {
      "image/png": "[encoded data removed]",
      "text/plain": [
       "<Figure size 1008x504 with 1 Axes>"
      ]
     },
     "metadata": {
      "needs_background": "light"
     },
     "output_type": "display_data"
    }
   ],
   "source": [
    "# Getting the probabilities of our prediction model\n",
    "y_scores = random_forest.predict_proba(X_train_final)\n",
    "y_scores = y_scores[:,1]\n",
    "\n",
    "precision, recall, threshold = precision_recall_curve(Y_train, y_scores)\n",
    "def plot_precision_and_recall(precision, recall, threshold):\n",
    "    \"\"\"function that returns to the precision, recall vs threshold plot\"\"\"\n",
    "    plt.plot(threshold, precision[:-1], color=\"#ffb482\", label=\"precision\", linewidth=5)\n",
    "    plt.plot(threshold, recall[:-1], color=\"#8de5a1\", label=\"recall\", linewidth=5)\n",
    "    plt.xlabel(\"threshold\", fontsize=19)\n",
    "    plt.legend(loc=\"upper right\", fontsize=19)\n",
    "    plt.ylim([0, 1])\n",
    "    plt.show()\n",
    "     \n",
    "\n",
    "plt.figure(figsize=(14, 7))      \n",
    "plot_precision_and_recall(precision, recall, threshold)"
   ]
  },
  {
   "cell_type": "code",
   "execution_count": 66,
   "metadata": {},
   "outputs": [
    {
     "data": {
      "image/png": "[encoded data removed]",
      "text/plain": [
       "<Figure size 1008x504 with 1 Axes>"
      ]
     },
     "metadata": {
      "needs_background": "light"
     },
     "output_type": "display_data"
    }
   ],
   "source": [
    "def plot_precision_vs_recall(precision, recall):\n",
    "    \"\"\"function that returns to the precision vs recall plot\"\"\"\n",
    "    plt.plot(precision,recall, \"g--\",color= \"#8de5a1\", linewidth=3)\n",
    "    plt.xlabel(\"recall\", fontsize=19)\n",
    "    plt.ylabel(\"precision\", fontsize=19)\n",
    "    plt.axis([0, 1.1, 0, 1.1])\n",
    "    plt.show()\n",
    "\n",
    "plt.figure(figsize=(14, 7))\n",
    "plot_precision_vs_recall(precision,recall)\n"
   ]
  },
  {
   "cell_type": "markdown",
   "metadata": {},
   "source": [
    "You can see that precision starts to fall sharply around 80% recall. We want to select a precision/recall tradeoff that gives us a high precision - we need to detect how many people survived on the Titanic knowing that most of the people died. In this case we should care more about false positives than false negatives."
   ]
  },
  {
   "cell_type": "markdown",
   "metadata": {},
   "source": [
    "In fact, in our model we are going to search for the lowest threshold that gives us at least 99% precision (np.argmax() and will give us the first index of the maximum value, which in this case means the first True value)."
   ]
  },
  {
   "cell_type": "code",
   "execution_count": 69,
   "metadata": {},
   "outputs": [
    {
     "data": {
      "text/plain": [
       "0.9916666666666667"
      ]
     },
     "execution_count": 69,
     "metadata": {},
     "output_type": "execute_result"
    }
   ],
   "source": [
    "# We are going to compute the threshold based on the precision that we want to achieve\n",
    "threshold_precision = threshold[np.argmax(precision >= 0.99)] # To get 99% precision\n",
    "Y_train_pred = (y_scores >= threshold_precision)\n",
    "\n",
    "# Checking our prediction score based on precision and recall:\n",
    "precision_score(Y_train, Y_train_pred) \n"
   ]
  },
  {
   "cell_type": "code",
   "execution_count": 70,
   "metadata": {},
   "outputs": [
    {
     "data": {
      "text/plain": [
       "0.695906432748538"
      ]
     },
     "execution_count": 70,
     "metadata": {},
     "output_type": "execute_result"
    }
   ],
   "source": [
    "# Recall score\n",
    "recall_score(Y_train, Y_train_pred) "
   ]
  },
  {
   "cell_type": "markdown",
   "metadata": {},
   "source": [
    "- 99% of precision at 70% recall it's quite good for our model!"
   ]
  },
  {
   "cell_type": "code",
   "execution_count": 72,
   "metadata": {},
   "outputs": [
    {
     "data": {
      "text/plain": [
       "0.76725"
      ]
     },
     "execution_count": 72,
     "metadata": {},
     "output_type": "execute_result"
    }
   ],
   "source": [
    "# Our threshold score\n",
    "threshold_precision"
   ]
  },
  {
   "cell_type": "code",
   "execution_count": null,
   "metadata": {},
   "outputs": [],
   "source": [
    "# Extra:\n",
    "# If you preferred the ROC curve over the precision/recall, one approach to calculate the ideal threshold \n",
    "# for imbalance classification is to find the optimal threshold for ROC Curve.\n",
    "\n",
    "def threshold(true_positive_rate,false_positive_rate):\n",
    "    \"\"\"a function that returns to the best threshold value for ROC Curve\"\"\"\n",
    "    # calculate the g-mean for each threshold\n",
    "    gmeans = np.sqrt(true_positive_rate * (1-false_positive_rate))\n",
    "    # locate the index of the largest g-mean\n",
    "    result = best_threshold =  np.argmax(gmeans) / 100\n",
    "    return result\n",
    "\n",
    "best_threshold_ROC = threshold(true_positive_rate,false_positive_rate)\n",
    "\n",
    "best_threshold_ROC"
   ]
  },
  {
   "cell_type": "code",
   "execution_count": 73,
   "metadata": {},
   "outputs": [],
   "source": [
    "# Let's move the threshold on our model based on our findings\n",
    "threshold = threshold_precision\n",
    "\n",
    "predicted_proba = random_forest.predict_proba(X_test_final)\n",
    "predicted = (predicted_proba [:,1] >= threshold).astype(\"int\")\n",
    "score = predicted\n"
   ]
  },
  {
   "cell_type": "code",
   "execution_count": 74,
   "metadata": {},
   "outputs": [],
   "source": [
    "# Creating a DataFrame with the passengers Ids and our predictions regarding whether they survived or not\n",
    "submission = pd.DataFrame({\"PassengerId\":column_passengers,\"Survived\": score})\n"
   ]
  },
  {
   "cell_type": "code",
   "execution_count": 75,
   "metadata": {},
   "outputs": [
    {
     "name": "stdout",
     "output_type": "stream",
     "text": [
      "Saved file: Titanic_Prediction.csv\n"
     ]
    }
   ],
   "source": [
    "filename = \"Titanic_Prediction.csv\"\n",
    "\n",
    "submission.to_csv(filename,index=False)\n",
    "\n",
    "print(\"Saved file: \" + filename)"
   ]
  },
  {
   "cell_type": "markdown",
   "metadata": {},
   "source": [
    "With this approach, I scored within the top 11% in the Titanic competition -  scoring 0.79."
   ]
  }
 ],
 "metadata": {
  "kernelspec": {
   "display_name": "Python 3",
   "language": "python",
   "name": "python3"
  },
  "language_info": {
   "codemirror_mode": {
    "name": "ipython",
    "version": 3
   },
   "file_extension": ".py",
   "mimetype": "text/x-python",
   "name": "python",
   "nbconvert_exporter": "python",
   "pygments_lexer": "ipython3",
   "version": "3.7.9"
  }
 },
 "nbformat": 4,
 "nbformat_minor": 4
}
